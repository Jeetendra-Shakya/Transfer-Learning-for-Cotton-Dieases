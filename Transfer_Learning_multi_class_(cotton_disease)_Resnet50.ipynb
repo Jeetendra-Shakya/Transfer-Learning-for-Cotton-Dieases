{
  "nbformat": 4,
  "nbformat_minor": 0,
  "metadata": {
    "kernelspec": {
      "display_name": "Python 3",
      "language": "python",
      "name": "python3"
    },
    "language_info": {
      "codemirror_mode": {
        "name": "ipython",
        "version": 3
      },
      "file_extension": ".py",
      "mimetype": "text/x-python",
      "name": "python",
      "nbconvert_exporter": "python",
      "pygments_lexer": "ipython3",
      "version": "3.7.7"
    },
    "colab": {
      "name": "Transfer Learning multi class (cotton disease) Resnet50.ipynb",
      "provenance": [],
      "collapsed_sections": [],
      "machine_shape": "hm"
    },
    "accelerator": "GPU"
  },
  "cells": [
    {
      "cell_type": "markdown",
      "metadata": {
        "id": "VLimBEVS5gTT"
      },
      "source": [
        "## Transfer Learning ResNet50 using Keras"
      ]
    },
    {
      "cell_type": "code",
      "metadata": {
        "colab": {
          "base_uri": "https://localhost:8080/"
        },
        "id": "XJmb2YduxvgO",
        "outputId": "a222cc56-1f05-42ef-d6d3-e53ec04979e1"
      },
      "source": [
        "# This model was created using google colab:\n",
        "# To check your GPU\n",
        "gpu_info = !nvidia-smi\n",
        "gpu_info = '\\n'.join(gpu_info)\n",
        "if gpu_info.find('failed') >= 0:\n",
        "  print('Select the Runtime > \"Change runtime type\" menu to enable a GPU accelerator, ')\n",
        "  print('and then re-execute this cell.')\n",
        "else:\n",
        "  print(gpu_info)"
      ],
      "execution_count": 1,
      "outputs": [
        {
          "output_type": "stream",
          "text": [
            "Wed Apr 28 09:05:59 2021       \n",
            "+-----------------------------------------------------------------------------+\n",
            "| NVIDIA-SMI 465.19.01    Driver Version: 460.32.03    CUDA Version: 11.2     |\n",
            "|-------------------------------+----------------------+----------------------+\n",
            "| GPU  Name        Persistence-M| Bus-Id        Disp.A | Volatile Uncorr. ECC |\n",
            "| Fan  Temp  Perf  Pwr:Usage/Cap|         Memory-Usage | GPU-Util  Compute M. |\n",
            "|                               |                      |               MIG M. |\n",
            "|===============================+======================+======================|\n",
            "|   0  Tesla P100-PCIE...  Off  | 00000000:00:04.0 Off |                    0 |\n",
            "| N/A   31C    P0    28W / 250W |      0MiB / 16280MiB |      0%      Default |\n",
            "|                               |                      |                  N/A |\n",
            "+-------------------------------+----------------------+----------------------+\n",
            "                                                                               \n",
            "+-----------------------------------------------------------------------------+\n",
            "| Processes:                                                                  |\n",
            "|  GPU   GI   CI        PID   Type   Process name                  GPU Memory |\n",
            "|        ID   ID                                                   Usage      |\n",
            "|=============================================================================|\n",
            "|  No running processes found                                                 |\n",
            "+-----------------------------------------------------------------------------+\n"
          ],
          "name": "stdout"
        }
      ]
    },
    {
      "cell_type": "markdown",
      "metadata": {
        "id": "JwPtW0pr5gTY"
      },
      "source": [
        "Please download the dataset from the below url"
      ]
    },
    {
      "cell_type": "code",
      "metadata": {
        "colab": {
          "base_uri": "https://localhost:8080/"
        },
        "id": "RjX6bu9t5gTZ",
        "outputId": "bb70d590-f8de-488d-83d6-24c11ee1be8f"
      },
      "source": [
        "# Tensorflow GPU\n",
        "import tensorflow as tf \n",
        "\n",
        "if tf.test.gpu_device_name(): \n",
        "    \n",
        "\n",
        "    print('Default GPU Device:{}'.format(tf.test.gpu_device_name()))\n",
        "\n",
        "else:\n",
        "\n",
        "    print(\"Please install GPU version of TF\")"
      ],
      "execution_count": 2,
      "outputs": [
        {
          "output_type": "stream",
          "text": [
            "Default GPU Device:/device:GPU:0\n"
          ],
          "name": "stdout"
        }
      ]
    },
    {
      "cell_type": "code",
      "metadata": {
        "colab": {
          "base_uri": "https://localhost:8080/"
        },
        "id": "t5G1pYTXx2YL",
        "outputId": "e246e20e-db4e-49f2-c20c-5b7c8dfc589b"
      },
      "source": [
        "# Mount google drive\n",
        "from google.colab import drive\n",
        "drive.mount('/content/drive/')"
      ],
      "execution_count": 3,
      "outputs": [
        {
          "output_type": "stream",
          "text": [
            "Mounted at /content/drive/\n"
          ],
          "name": "stdout"
        }
      ]
    },
    {
      "cell_type": "code",
      "metadata": {
        "colab": {
          "base_uri": "https://localhost:8080/"
        },
        "id": "f22Sb6G6JzVa",
        "outputId": "9002fd4f-e4f2-41d6-f34f-1fb3adff389d"
      },
      "source": [
        "# Unzip the file\n",
        "#!unzip /content/drive/MyDrive/Datasets.zip"
      ],
      "execution_count": null,
      "outputs": [
        {
          "output_type": "stream",
          "text": [
            "unzip:  cannot find or open /content/drive/MyDrive/Datasets.zip, /content/drive/MyDrive/Datasets.zip.zip or /content/drive/MyDrive/Datasets.zip.ZIP.\n"
          ],
          "name": "stdout"
        }
      ]
    },
    {
      "cell_type": "code",
      "metadata": {
        "colab": {
          "base_uri": "https://localhost:8080/",
          "height": 35
        },
        "id": "8YHFbgFw5gTa",
        "outputId": "9bc9ca50-bd6c-40b0-854b-f6477acc8859"
      },
      "source": [
        "tf.test.gpu_device_name()"
      ],
      "execution_count": 5,
      "outputs": [
        {
          "output_type": "execute_result",
          "data": {
            "application/vnd.google.colaboratory.intrinsic+json": {
              "type": "string"
            },
            "text/plain": [
              "'/device:GPU:0'"
            ]
          },
          "metadata": {
            "tags": []
          },
          "execution_count": 5
        }
      ]
    },
    {
      "cell_type": "code",
      "metadata": {
        "id": "oIoUDmVV5gTa"
      },
      "source": [
        "# import the libraries as shown below\n",
        "\n",
        "from tensorflow.keras.layers import Input, Lambda, Dense, Flatten\n",
        "from tensorflow.keras.models import Model\n",
        "from tensorflow.keras.applications.resnet50 import ResNet50\n",
        "from tensorflow.keras.applications.resnet50 import preprocess_input\n",
        "from tensorflow.keras.preprocessing import image\n",
        "from tensorflow.keras.preprocessing.image import ImageDataGenerator,load_img\n",
        "from tensorflow.keras.models import Sequential\n",
        "import numpy as np\n",
        "from glob import glob\n"
      ],
      "execution_count": 92,
      "outputs": []
    },
    {
      "cell_type": "code",
      "metadata": {
        "id": "pFFJLhJ35gTb"
      },
      "source": [
        "# re-size all the images to this\n",
        "IMAGE_SIZE = [224, 224]\n",
        "\n",
        "train_path = '/content/drive/MyDrive/Cotton_Disease/train'\n",
        "valid_path = '/content/drive/MyDrive/Cotton_Disease/test'\n"
      ],
      "execution_count": 93,
      "outputs": []
    },
    {
      "cell_type": "code",
      "metadata": {
        "colab": {
          "base_uri": "https://localhost:8080/"
        },
        "id": "kqm09FEr5gTb",
        "outputId": "b5ad7a3f-12d7-4520-cd72-946033baab78"
      },
      "source": [
        "# Import the Vgg 19 library as shown below and add preprocessing layer to the front of VGG\n",
        "# Here we will be using imagenet weights\n",
        "\n",
        "ResNet50 = ResNet50(input_shape=IMAGE_SIZE + [3], weights='imagenet', include_top=False)\n",
        "\n",
        "\n"
      ],
      "execution_count": 94,
      "outputs": [
        {
          "output_type": "stream",
          "text": [
            "Downloading data from https://storage.googleapis.com/tensorflow/keras-applications/resnet/resnet50_weights_tf_dim_ordering_tf_kernels_notop.h5\n",
            "94773248/94765736 [==============================] - 1s 0us/step\n"
          ],
          "name": "stdout"
        }
      ]
    },
    {
      "cell_type": "code",
      "metadata": {
        "id": "SEVdhjIz5gTb"
      },
      "source": [
        "# don't train existing weights\n",
        "for layer in ResNet50.layers:\n",
        "    layer.trainable = False"
      ],
      "execution_count": 95,
      "outputs": []
    },
    {
      "cell_type": "code",
      "metadata": {
        "id": "kqHgl33U5gTc"
      },
      "source": [
        "  # useful for getting number of output classes\n",
        "folders = glob('/content/drive/MyDrive/Cotton_Disease/train/*')"
      ],
      "execution_count": 96,
      "outputs": []
    },
    {
      "cell_type": "code",
      "metadata": {
        "id": "99bqs2F55gTc"
      },
      "source": [
        "# our layers - you can add more if you want\n",
        "x = Flatten()(ResNet50.output)"
      ],
      "execution_count": 97,
      "outputs": []
    },
    {
      "cell_type": "code",
      "metadata": {
        "id": "F36D57IZ5gTc"
      },
      "source": [
        "prediction = Dense(len(folders), activation='softmax')(x)\n",
        "\n",
        "# create a model object\n",
        "model = Model(inputs=ResNet50.input, outputs=prediction)"
      ],
      "execution_count": 98,
      "outputs": []
    },
    {
      "cell_type": "code",
      "metadata": {
        "colab": {
          "base_uri": "https://localhost:8080/"
        },
        "id": "5XcUwlJ45gTc",
        "outputId": "88b254f6-2fa2-4260-b73e-26717e77ede7"
      },
      "source": [
        "\n",
        "# view the structure of the model\n",
        "model.summary()\n"
      ],
      "execution_count": 99,
      "outputs": [
        {
          "output_type": "stream",
          "text": [
            "Model: \"model_2\"\n",
            "__________________________________________________________________________________________________\n",
            "Layer (type)                    Output Shape         Param #     Connected to                     \n",
            "==================================================================================================\n",
            "input_3 (InputLayer)            [(None, 224, 224, 3) 0                                            \n",
            "__________________________________________________________________________________________________\n",
            "conv1_pad (ZeroPadding2D)       (None, 230, 230, 3)  0           input_3[0][0]                    \n",
            "__________________________________________________________________________________________________\n",
            "conv1_conv (Conv2D)             (None, 112, 112, 64) 9472        conv1_pad[0][0]                  \n",
            "__________________________________________________________________________________________________\n",
            "conv1_bn (BatchNormalization)   (None, 112, 112, 64) 256         conv1_conv[0][0]                 \n",
            "__________________________________________________________________________________________________\n",
            "conv1_relu (Activation)         (None, 112, 112, 64) 0           conv1_bn[0][0]                   \n",
            "__________________________________________________________________________________________________\n",
            "pool1_pad (ZeroPadding2D)       (None, 114, 114, 64) 0           conv1_relu[0][0]                 \n",
            "__________________________________________________________________________________________________\n",
            "pool1_pool (MaxPooling2D)       (None, 56, 56, 64)   0           pool1_pad[0][0]                  \n",
            "__________________________________________________________________________________________________\n",
            "conv2_block1_1_conv (Conv2D)    (None, 56, 56, 64)   4160        pool1_pool[0][0]                 \n",
            "__________________________________________________________________________________________________\n",
            "conv2_block1_1_bn (BatchNormali (None, 56, 56, 64)   256         conv2_block1_1_conv[0][0]        \n",
            "__________________________________________________________________________________________________\n",
            "conv2_block1_1_relu (Activation (None, 56, 56, 64)   0           conv2_block1_1_bn[0][0]          \n",
            "__________________________________________________________________________________________________\n",
            "conv2_block1_2_conv (Conv2D)    (None, 56, 56, 64)   36928       conv2_block1_1_relu[0][0]        \n",
            "__________________________________________________________________________________________________\n",
            "conv2_block1_2_bn (BatchNormali (None, 56, 56, 64)   256         conv2_block1_2_conv[0][0]        \n",
            "__________________________________________________________________________________________________\n",
            "conv2_block1_2_relu (Activation (None, 56, 56, 64)   0           conv2_block1_2_bn[0][0]          \n",
            "__________________________________________________________________________________________________\n",
            "conv2_block1_0_conv (Conv2D)    (None, 56, 56, 256)  16640       pool1_pool[0][0]                 \n",
            "__________________________________________________________________________________________________\n",
            "conv2_block1_3_conv (Conv2D)    (None, 56, 56, 256)  16640       conv2_block1_2_relu[0][0]        \n",
            "__________________________________________________________________________________________________\n",
            "conv2_block1_0_bn (BatchNormali (None, 56, 56, 256)  1024        conv2_block1_0_conv[0][0]        \n",
            "__________________________________________________________________________________________________\n",
            "conv2_block1_3_bn (BatchNormali (None, 56, 56, 256)  1024        conv2_block1_3_conv[0][0]        \n",
            "__________________________________________________________________________________________________\n",
            "conv2_block1_add (Add)          (None, 56, 56, 256)  0           conv2_block1_0_bn[0][0]          \n",
            "                                                                 conv2_block1_3_bn[0][0]          \n",
            "__________________________________________________________________________________________________\n",
            "conv2_block1_out (Activation)   (None, 56, 56, 256)  0           conv2_block1_add[0][0]           \n",
            "__________________________________________________________________________________________________\n",
            "conv2_block2_1_conv (Conv2D)    (None, 56, 56, 64)   16448       conv2_block1_out[0][0]           \n",
            "__________________________________________________________________________________________________\n",
            "conv2_block2_1_bn (BatchNormali (None, 56, 56, 64)   256         conv2_block2_1_conv[0][0]        \n",
            "__________________________________________________________________________________________________\n",
            "conv2_block2_1_relu (Activation (None, 56, 56, 64)   0           conv2_block2_1_bn[0][0]          \n",
            "__________________________________________________________________________________________________\n",
            "conv2_block2_2_conv (Conv2D)    (None, 56, 56, 64)   36928       conv2_block2_1_relu[0][0]        \n",
            "__________________________________________________________________________________________________\n",
            "conv2_block2_2_bn (BatchNormali (None, 56, 56, 64)   256         conv2_block2_2_conv[0][0]        \n",
            "__________________________________________________________________________________________________\n",
            "conv2_block2_2_relu (Activation (None, 56, 56, 64)   0           conv2_block2_2_bn[0][0]          \n",
            "__________________________________________________________________________________________________\n",
            "conv2_block2_3_conv (Conv2D)    (None, 56, 56, 256)  16640       conv2_block2_2_relu[0][0]        \n",
            "__________________________________________________________________________________________________\n",
            "conv2_block2_3_bn (BatchNormali (None, 56, 56, 256)  1024        conv2_block2_3_conv[0][0]        \n",
            "__________________________________________________________________________________________________\n",
            "conv2_block2_add (Add)          (None, 56, 56, 256)  0           conv2_block1_out[0][0]           \n",
            "                                                                 conv2_block2_3_bn[0][0]          \n",
            "__________________________________________________________________________________________________\n",
            "conv2_block2_out (Activation)   (None, 56, 56, 256)  0           conv2_block2_add[0][0]           \n",
            "__________________________________________________________________________________________________\n",
            "conv2_block3_1_conv (Conv2D)    (None, 56, 56, 64)   16448       conv2_block2_out[0][0]           \n",
            "__________________________________________________________________________________________________\n",
            "conv2_block3_1_bn (BatchNormali (None, 56, 56, 64)   256         conv2_block3_1_conv[0][0]        \n",
            "__________________________________________________________________________________________________\n",
            "conv2_block3_1_relu (Activation (None, 56, 56, 64)   0           conv2_block3_1_bn[0][0]          \n",
            "__________________________________________________________________________________________________\n",
            "conv2_block3_2_conv (Conv2D)    (None, 56, 56, 64)   36928       conv2_block3_1_relu[0][0]        \n",
            "__________________________________________________________________________________________________\n",
            "conv2_block3_2_bn (BatchNormali (None, 56, 56, 64)   256         conv2_block3_2_conv[0][0]        \n",
            "__________________________________________________________________________________________________\n",
            "conv2_block3_2_relu (Activation (None, 56, 56, 64)   0           conv2_block3_2_bn[0][0]          \n",
            "__________________________________________________________________________________________________\n",
            "conv2_block3_3_conv (Conv2D)    (None, 56, 56, 256)  16640       conv2_block3_2_relu[0][0]        \n",
            "__________________________________________________________________________________________________\n",
            "conv2_block3_3_bn (BatchNormali (None, 56, 56, 256)  1024        conv2_block3_3_conv[0][0]        \n",
            "__________________________________________________________________________________________________\n",
            "conv2_block3_add (Add)          (None, 56, 56, 256)  0           conv2_block2_out[0][0]           \n",
            "                                                                 conv2_block3_3_bn[0][0]          \n",
            "__________________________________________________________________________________________________\n",
            "conv2_block3_out (Activation)   (None, 56, 56, 256)  0           conv2_block3_add[0][0]           \n",
            "__________________________________________________________________________________________________\n",
            "conv3_block1_1_conv (Conv2D)    (None, 28, 28, 128)  32896       conv2_block3_out[0][0]           \n",
            "__________________________________________________________________________________________________\n",
            "conv3_block1_1_bn (BatchNormali (None, 28, 28, 128)  512         conv3_block1_1_conv[0][0]        \n",
            "__________________________________________________________________________________________________\n",
            "conv3_block1_1_relu (Activation (None, 28, 28, 128)  0           conv3_block1_1_bn[0][0]          \n",
            "__________________________________________________________________________________________________\n",
            "conv3_block1_2_conv (Conv2D)    (None, 28, 28, 128)  147584      conv3_block1_1_relu[0][0]        \n",
            "__________________________________________________________________________________________________\n",
            "conv3_block1_2_bn (BatchNormali (None, 28, 28, 128)  512         conv3_block1_2_conv[0][0]        \n",
            "__________________________________________________________________________________________________\n",
            "conv3_block1_2_relu (Activation (None, 28, 28, 128)  0           conv3_block1_2_bn[0][0]          \n",
            "__________________________________________________________________________________________________\n",
            "conv3_block1_0_conv (Conv2D)    (None, 28, 28, 512)  131584      conv2_block3_out[0][0]           \n",
            "__________________________________________________________________________________________________\n",
            "conv3_block1_3_conv (Conv2D)    (None, 28, 28, 512)  66048       conv3_block1_2_relu[0][0]        \n",
            "__________________________________________________________________________________________________\n",
            "conv3_block1_0_bn (BatchNormali (None, 28, 28, 512)  2048        conv3_block1_0_conv[0][0]        \n",
            "__________________________________________________________________________________________________\n",
            "conv3_block1_3_bn (BatchNormali (None, 28, 28, 512)  2048        conv3_block1_3_conv[0][0]        \n",
            "__________________________________________________________________________________________________\n",
            "conv3_block1_add (Add)          (None, 28, 28, 512)  0           conv3_block1_0_bn[0][0]          \n",
            "                                                                 conv3_block1_3_bn[0][0]          \n",
            "__________________________________________________________________________________________________\n",
            "conv3_block1_out (Activation)   (None, 28, 28, 512)  0           conv3_block1_add[0][0]           \n",
            "__________________________________________________________________________________________________\n",
            "conv3_block2_1_conv (Conv2D)    (None, 28, 28, 128)  65664       conv3_block1_out[0][0]           \n",
            "__________________________________________________________________________________________________\n",
            "conv3_block2_1_bn (BatchNormali (None, 28, 28, 128)  512         conv3_block2_1_conv[0][0]        \n",
            "__________________________________________________________________________________________________\n",
            "conv3_block2_1_relu (Activation (None, 28, 28, 128)  0           conv3_block2_1_bn[0][0]          \n",
            "__________________________________________________________________________________________________\n",
            "conv3_block2_2_conv (Conv2D)    (None, 28, 28, 128)  147584      conv3_block2_1_relu[0][0]        \n",
            "__________________________________________________________________________________________________\n",
            "conv3_block2_2_bn (BatchNormali (None, 28, 28, 128)  512         conv3_block2_2_conv[0][0]        \n",
            "__________________________________________________________________________________________________\n",
            "conv3_block2_2_relu (Activation (None, 28, 28, 128)  0           conv3_block2_2_bn[0][0]          \n",
            "__________________________________________________________________________________________________\n",
            "conv3_block2_3_conv (Conv2D)    (None, 28, 28, 512)  66048       conv3_block2_2_relu[0][0]        \n",
            "__________________________________________________________________________________________________\n",
            "conv3_block2_3_bn (BatchNormali (None, 28, 28, 512)  2048        conv3_block2_3_conv[0][0]        \n",
            "__________________________________________________________________________________________________\n",
            "conv3_block2_add (Add)          (None, 28, 28, 512)  0           conv3_block1_out[0][0]           \n",
            "                                                                 conv3_block2_3_bn[0][0]          \n",
            "__________________________________________________________________________________________________\n",
            "conv3_block2_out (Activation)   (None, 28, 28, 512)  0           conv3_block2_add[0][0]           \n",
            "__________________________________________________________________________________________________\n",
            "conv3_block3_1_conv (Conv2D)    (None, 28, 28, 128)  65664       conv3_block2_out[0][0]           \n",
            "__________________________________________________________________________________________________\n",
            "conv3_block3_1_bn (BatchNormali (None, 28, 28, 128)  512         conv3_block3_1_conv[0][0]        \n",
            "__________________________________________________________________________________________________\n",
            "conv3_block3_1_relu (Activation (None, 28, 28, 128)  0           conv3_block3_1_bn[0][0]          \n",
            "__________________________________________________________________________________________________\n",
            "conv3_block3_2_conv (Conv2D)    (None, 28, 28, 128)  147584      conv3_block3_1_relu[0][0]        \n",
            "__________________________________________________________________________________________________\n",
            "conv3_block3_2_bn (BatchNormali (None, 28, 28, 128)  512         conv3_block3_2_conv[0][0]        \n",
            "__________________________________________________________________________________________________\n",
            "conv3_block3_2_relu (Activation (None, 28, 28, 128)  0           conv3_block3_2_bn[0][0]          \n",
            "__________________________________________________________________________________________________\n",
            "conv3_block3_3_conv (Conv2D)    (None, 28, 28, 512)  66048       conv3_block3_2_relu[0][0]        \n",
            "__________________________________________________________________________________________________\n",
            "conv3_block3_3_bn (BatchNormali (None, 28, 28, 512)  2048        conv3_block3_3_conv[0][0]        \n",
            "__________________________________________________________________________________________________\n",
            "conv3_block3_add (Add)          (None, 28, 28, 512)  0           conv3_block2_out[0][0]           \n",
            "                                                                 conv3_block3_3_bn[0][0]          \n",
            "__________________________________________________________________________________________________\n",
            "conv3_block3_out (Activation)   (None, 28, 28, 512)  0           conv3_block3_add[0][0]           \n",
            "__________________________________________________________________________________________________\n",
            "conv3_block4_1_conv (Conv2D)    (None, 28, 28, 128)  65664       conv3_block3_out[0][0]           \n",
            "__________________________________________________________________________________________________\n",
            "conv3_block4_1_bn (BatchNormali (None, 28, 28, 128)  512         conv3_block4_1_conv[0][0]        \n",
            "__________________________________________________________________________________________________\n",
            "conv3_block4_1_relu (Activation (None, 28, 28, 128)  0           conv3_block4_1_bn[0][0]          \n",
            "__________________________________________________________________________________________________\n",
            "conv3_block4_2_conv (Conv2D)    (None, 28, 28, 128)  147584      conv3_block4_1_relu[0][0]        \n",
            "__________________________________________________________________________________________________\n",
            "conv3_block4_2_bn (BatchNormali (None, 28, 28, 128)  512         conv3_block4_2_conv[0][0]        \n",
            "__________________________________________________________________________________________________\n",
            "conv3_block4_2_relu (Activation (None, 28, 28, 128)  0           conv3_block4_2_bn[0][0]          \n",
            "__________________________________________________________________________________________________\n",
            "conv3_block4_3_conv (Conv2D)    (None, 28, 28, 512)  66048       conv3_block4_2_relu[0][0]        \n",
            "__________________________________________________________________________________________________\n",
            "conv3_block4_3_bn (BatchNormali (None, 28, 28, 512)  2048        conv3_block4_3_conv[0][0]        \n",
            "__________________________________________________________________________________________________\n",
            "conv3_block4_add (Add)          (None, 28, 28, 512)  0           conv3_block3_out[0][0]           \n",
            "                                                                 conv3_block4_3_bn[0][0]          \n",
            "__________________________________________________________________________________________________\n",
            "conv3_block4_out (Activation)   (None, 28, 28, 512)  0           conv3_block4_add[0][0]           \n",
            "__________________________________________________________________________________________________\n",
            "conv4_block1_1_conv (Conv2D)    (None, 14, 14, 256)  131328      conv3_block4_out[0][0]           \n",
            "__________________________________________________________________________________________________\n",
            "conv4_block1_1_bn (BatchNormali (None, 14, 14, 256)  1024        conv4_block1_1_conv[0][0]        \n",
            "__________________________________________________________________________________________________\n",
            "conv4_block1_1_relu (Activation (None, 14, 14, 256)  0           conv4_block1_1_bn[0][0]          \n",
            "__________________________________________________________________________________________________\n",
            "conv4_block1_2_conv (Conv2D)    (None, 14, 14, 256)  590080      conv4_block1_1_relu[0][0]        \n",
            "__________________________________________________________________________________________________\n",
            "conv4_block1_2_bn (BatchNormali (None, 14, 14, 256)  1024        conv4_block1_2_conv[0][0]        \n",
            "__________________________________________________________________________________________________\n",
            "conv4_block1_2_relu (Activation (None, 14, 14, 256)  0           conv4_block1_2_bn[0][0]          \n",
            "__________________________________________________________________________________________________\n",
            "conv4_block1_0_conv (Conv2D)    (None, 14, 14, 1024) 525312      conv3_block4_out[0][0]           \n",
            "__________________________________________________________________________________________________\n",
            "conv4_block1_3_conv (Conv2D)    (None, 14, 14, 1024) 263168      conv4_block1_2_relu[0][0]        \n",
            "__________________________________________________________________________________________________\n",
            "conv4_block1_0_bn (BatchNormali (None, 14, 14, 1024) 4096        conv4_block1_0_conv[0][0]        \n",
            "__________________________________________________________________________________________________\n",
            "conv4_block1_3_bn (BatchNormali (None, 14, 14, 1024) 4096        conv4_block1_3_conv[0][0]        \n",
            "__________________________________________________________________________________________________\n",
            "conv4_block1_add (Add)          (None, 14, 14, 1024) 0           conv4_block1_0_bn[0][0]          \n",
            "                                                                 conv4_block1_3_bn[0][0]          \n",
            "__________________________________________________________________________________________________\n",
            "conv4_block1_out (Activation)   (None, 14, 14, 1024) 0           conv4_block1_add[0][0]           \n",
            "__________________________________________________________________________________________________\n",
            "conv4_block2_1_conv (Conv2D)    (None, 14, 14, 256)  262400      conv4_block1_out[0][0]           \n",
            "__________________________________________________________________________________________________\n",
            "conv4_block2_1_bn (BatchNormali (None, 14, 14, 256)  1024        conv4_block2_1_conv[0][0]        \n",
            "__________________________________________________________________________________________________\n",
            "conv4_block2_1_relu (Activation (None, 14, 14, 256)  0           conv4_block2_1_bn[0][0]          \n",
            "__________________________________________________________________________________________________\n",
            "conv4_block2_2_conv (Conv2D)    (None, 14, 14, 256)  590080      conv4_block2_1_relu[0][0]        \n",
            "__________________________________________________________________________________________________\n",
            "conv4_block2_2_bn (BatchNormali (None, 14, 14, 256)  1024        conv4_block2_2_conv[0][0]        \n",
            "__________________________________________________________________________________________________\n",
            "conv4_block2_2_relu (Activation (None, 14, 14, 256)  0           conv4_block2_2_bn[0][0]          \n",
            "__________________________________________________________________________________________________\n",
            "conv4_block2_3_conv (Conv2D)    (None, 14, 14, 1024) 263168      conv4_block2_2_relu[0][0]        \n",
            "__________________________________________________________________________________________________\n",
            "conv4_block2_3_bn (BatchNormali (None, 14, 14, 1024) 4096        conv4_block2_3_conv[0][0]        \n",
            "__________________________________________________________________________________________________\n",
            "conv4_block2_add (Add)          (None, 14, 14, 1024) 0           conv4_block1_out[0][0]           \n",
            "                                                                 conv4_block2_3_bn[0][0]          \n",
            "__________________________________________________________________________________________________\n",
            "conv4_block2_out (Activation)   (None, 14, 14, 1024) 0           conv4_block2_add[0][0]           \n",
            "__________________________________________________________________________________________________\n",
            "conv4_block3_1_conv (Conv2D)    (None, 14, 14, 256)  262400      conv4_block2_out[0][0]           \n",
            "__________________________________________________________________________________________________\n",
            "conv4_block3_1_bn (BatchNormali (None, 14, 14, 256)  1024        conv4_block3_1_conv[0][0]        \n",
            "__________________________________________________________________________________________________\n",
            "conv4_block3_1_relu (Activation (None, 14, 14, 256)  0           conv4_block3_1_bn[0][0]          \n",
            "__________________________________________________________________________________________________\n",
            "conv4_block3_2_conv (Conv2D)    (None, 14, 14, 256)  590080      conv4_block3_1_relu[0][0]        \n",
            "__________________________________________________________________________________________________\n",
            "conv4_block3_2_bn (BatchNormali (None, 14, 14, 256)  1024        conv4_block3_2_conv[0][0]        \n",
            "__________________________________________________________________________________________________\n",
            "conv4_block3_2_relu (Activation (None, 14, 14, 256)  0           conv4_block3_2_bn[0][0]          \n",
            "__________________________________________________________________________________________________\n",
            "conv4_block3_3_conv (Conv2D)    (None, 14, 14, 1024) 263168      conv4_block3_2_relu[0][0]        \n",
            "__________________________________________________________________________________________________\n",
            "conv4_block3_3_bn (BatchNormali (None, 14, 14, 1024) 4096        conv4_block3_3_conv[0][0]        \n",
            "__________________________________________________________________________________________________\n",
            "conv4_block3_add (Add)          (None, 14, 14, 1024) 0           conv4_block2_out[0][0]           \n",
            "                                                                 conv4_block3_3_bn[0][0]          \n",
            "__________________________________________________________________________________________________\n",
            "conv4_block3_out (Activation)   (None, 14, 14, 1024) 0           conv4_block3_add[0][0]           \n",
            "__________________________________________________________________________________________________\n",
            "conv4_block4_1_conv (Conv2D)    (None, 14, 14, 256)  262400      conv4_block3_out[0][0]           \n",
            "__________________________________________________________________________________________________\n",
            "conv4_block4_1_bn (BatchNormali (None, 14, 14, 256)  1024        conv4_block4_1_conv[0][0]        \n",
            "__________________________________________________________________________________________________\n",
            "conv4_block4_1_relu (Activation (None, 14, 14, 256)  0           conv4_block4_1_bn[0][0]          \n",
            "__________________________________________________________________________________________________\n",
            "conv4_block4_2_conv (Conv2D)    (None, 14, 14, 256)  590080      conv4_block4_1_relu[0][0]        \n",
            "__________________________________________________________________________________________________\n",
            "conv4_block4_2_bn (BatchNormali (None, 14, 14, 256)  1024        conv4_block4_2_conv[0][0]        \n",
            "__________________________________________________________________________________________________\n",
            "conv4_block4_2_relu (Activation (None, 14, 14, 256)  0           conv4_block4_2_bn[0][0]          \n",
            "__________________________________________________________________________________________________\n",
            "conv4_block4_3_conv (Conv2D)    (None, 14, 14, 1024) 263168      conv4_block4_2_relu[0][0]        \n",
            "__________________________________________________________________________________________________\n",
            "conv4_block4_3_bn (BatchNormali (None, 14, 14, 1024) 4096        conv4_block4_3_conv[0][0]        \n",
            "__________________________________________________________________________________________________\n",
            "conv4_block4_add (Add)          (None, 14, 14, 1024) 0           conv4_block3_out[0][0]           \n",
            "                                                                 conv4_block4_3_bn[0][0]          \n",
            "__________________________________________________________________________________________________\n",
            "conv4_block4_out (Activation)   (None, 14, 14, 1024) 0           conv4_block4_add[0][0]           \n",
            "__________________________________________________________________________________________________\n",
            "conv4_block5_1_conv (Conv2D)    (None, 14, 14, 256)  262400      conv4_block4_out[0][0]           \n",
            "__________________________________________________________________________________________________\n",
            "conv4_block5_1_bn (BatchNormali (None, 14, 14, 256)  1024        conv4_block5_1_conv[0][0]        \n",
            "__________________________________________________________________________________________________\n",
            "conv4_block5_1_relu (Activation (None, 14, 14, 256)  0           conv4_block5_1_bn[0][0]          \n",
            "__________________________________________________________________________________________________\n",
            "conv4_block5_2_conv (Conv2D)    (None, 14, 14, 256)  590080      conv4_block5_1_relu[0][0]        \n",
            "__________________________________________________________________________________________________\n",
            "conv4_block5_2_bn (BatchNormali (None, 14, 14, 256)  1024        conv4_block5_2_conv[0][0]        \n",
            "__________________________________________________________________________________________________\n",
            "conv4_block5_2_relu (Activation (None, 14, 14, 256)  0           conv4_block5_2_bn[0][0]          \n",
            "__________________________________________________________________________________________________\n",
            "conv4_block5_3_conv (Conv2D)    (None, 14, 14, 1024) 263168      conv4_block5_2_relu[0][0]        \n",
            "__________________________________________________________________________________________________\n",
            "conv4_block5_3_bn (BatchNormali (None, 14, 14, 1024) 4096        conv4_block5_3_conv[0][0]        \n",
            "__________________________________________________________________________________________________\n",
            "conv4_block5_add (Add)          (None, 14, 14, 1024) 0           conv4_block4_out[0][0]           \n",
            "                                                                 conv4_block5_3_bn[0][0]          \n",
            "__________________________________________________________________________________________________\n",
            "conv4_block5_out (Activation)   (None, 14, 14, 1024) 0           conv4_block5_add[0][0]           \n",
            "__________________________________________________________________________________________________\n",
            "conv4_block6_1_conv (Conv2D)    (None, 14, 14, 256)  262400      conv4_block5_out[0][0]           \n",
            "__________________________________________________________________________________________________\n",
            "conv4_block6_1_bn (BatchNormali (None, 14, 14, 256)  1024        conv4_block6_1_conv[0][0]        \n",
            "__________________________________________________________________________________________________\n",
            "conv4_block6_1_relu (Activation (None, 14, 14, 256)  0           conv4_block6_1_bn[0][0]          \n",
            "__________________________________________________________________________________________________\n",
            "conv4_block6_2_conv (Conv2D)    (None, 14, 14, 256)  590080      conv4_block6_1_relu[0][0]        \n",
            "__________________________________________________________________________________________________\n",
            "conv4_block6_2_bn (BatchNormali (None, 14, 14, 256)  1024        conv4_block6_2_conv[0][0]        \n",
            "__________________________________________________________________________________________________\n",
            "conv4_block6_2_relu (Activation (None, 14, 14, 256)  0           conv4_block6_2_bn[0][0]          \n",
            "__________________________________________________________________________________________________\n",
            "conv4_block6_3_conv (Conv2D)    (None, 14, 14, 1024) 263168      conv4_block6_2_relu[0][0]        \n",
            "__________________________________________________________________________________________________\n",
            "conv4_block6_3_bn (BatchNormali (None, 14, 14, 1024) 4096        conv4_block6_3_conv[0][0]        \n",
            "__________________________________________________________________________________________________\n",
            "conv4_block6_add (Add)          (None, 14, 14, 1024) 0           conv4_block5_out[0][0]           \n",
            "                                                                 conv4_block6_3_bn[0][0]          \n",
            "__________________________________________________________________________________________________\n",
            "conv4_block6_out (Activation)   (None, 14, 14, 1024) 0           conv4_block6_add[0][0]           \n",
            "__________________________________________________________________________________________________\n",
            "conv5_block1_1_conv (Conv2D)    (None, 7, 7, 512)    524800      conv4_block6_out[0][0]           \n",
            "__________________________________________________________________________________________________\n",
            "conv5_block1_1_bn (BatchNormali (None, 7, 7, 512)    2048        conv5_block1_1_conv[0][0]        \n",
            "__________________________________________________________________________________________________\n",
            "conv5_block1_1_relu (Activation (None, 7, 7, 512)    0           conv5_block1_1_bn[0][0]          \n",
            "__________________________________________________________________________________________________\n",
            "conv5_block1_2_conv (Conv2D)    (None, 7, 7, 512)    2359808     conv5_block1_1_relu[0][0]        \n",
            "__________________________________________________________________________________________________\n",
            "conv5_block1_2_bn (BatchNormali (None, 7, 7, 512)    2048        conv5_block1_2_conv[0][0]        \n",
            "__________________________________________________________________________________________________\n",
            "conv5_block1_2_relu (Activation (None, 7, 7, 512)    0           conv5_block1_2_bn[0][0]          \n",
            "__________________________________________________________________________________________________\n",
            "conv5_block1_0_conv (Conv2D)    (None, 7, 7, 2048)   2099200     conv4_block6_out[0][0]           \n",
            "__________________________________________________________________________________________________\n",
            "conv5_block1_3_conv (Conv2D)    (None, 7, 7, 2048)   1050624     conv5_block1_2_relu[0][0]        \n",
            "__________________________________________________________________________________________________\n",
            "conv5_block1_0_bn (BatchNormali (None, 7, 7, 2048)   8192        conv5_block1_0_conv[0][0]        \n",
            "__________________________________________________________________________________________________\n",
            "conv5_block1_3_bn (BatchNormali (None, 7, 7, 2048)   8192        conv5_block1_3_conv[0][0]        \n",
            "__________________________________________________________________________________________________\n",
            "conv5_block1_add (Add)          (None, 7, 7, 2048)   0           conv5_block1_0_bn[0][0]          \n",
            "                                                                 conv5_block1_3_bn[0][0]          \n",
            "__________________________________________________________________________________________________\n",
            "conv5_block1_out (Activation)   (None, 7, 7, 2048)   0           conv5_block1_add[0][0]           \n",
            "__________________________________________________________________________________________________\n",
            "conv5_block2_1_conv (Conv2D)    (None, 7, 7, 512)    1049088     conv5_block1_out[0][0]           \n",
            "__________________________________________________________________________________________________\n",
            "conv5_block2_1_bn (BatchNormali (None, 7, 7, 512)    2048        conv5_block2_1_conv[0][0]        \n",
            "__________________________________________________________________________________________________\n",
            "conv5_block2_1_relu (Activation (None, 7, 7, 512)    0           conv5_block2_1_bn[0][0]          \n",
            "__________________________________________________________________________________________________\n",
            "conv5_block2_2_conv (Conv2D)    (None, 7, 7, 512)    2359808     conv5_block2_1_relu[0][0]        \n",
            "__________________________________________________________________________________________________\n",
            "conv5_block2_2_bn (BatchNormali (None, 7, 7, 512)    2048        conv5_block2_2_conv[0][0]        \n",
            "__________________________________________________________________________________________________\n",
            "conv5_block2_2_relu (Activation (None, 7, 7, 512)    0           conv5_block2_2_bn[0][0]          \n",
            "__________________________________________________________________________________________________\n",
            "conv5_block2_3_conv (Conv2D)    (None, 7, 7, 2048)   1050624     conv5_block2_2_relu[0][0]        \n",
            "__________________________________________________________________________________________________\n",
            "conv5_block2_3_bn (BatchNormali (None, 7, 7, 2048)   8192        conv5_block2_3_conv[0][0]        \n",
            "__________________________________________________________________________________________________\n",
            "conv5_block2_add (Add)          (None, 7, 7, 2048)   0           conv5_block1_out[0][0]           \n",
            "                                                                 conv5_block2_3_bn[0][0]          \n",
            "__________________________________________________________________________________________________\n",
            "conv5_block2_out (Activation)   (None, 7, 7, 2048)   0           conv5_block2_add[0][0]           \n",
            "__________________________________________________________________________________________________\n",
            "conv5_block3_1_conv (Conv2D)    (None, 7, 7, 512)    1049088     conv5_block2_out[0][0]           \n",
            "__________________________________________________________________________________________________\n",
            "conv5_block3_1_bn (BatchNormali (None, 7, 7, 512)    2048        conv5_block3_1_conv[0][0]        \n",
            "__________________________________________________________________________________________________\n",
            "conv5_block3_1_relu (Activation (None, 7, 7, 512)    0           conv5_block3_1_bn[0][0]          \n",
            "__________________________________________________________________________________________________\n",
            "conv5_block3_2_conv (Conv2D)    (None, 7, 7, 512)    2359808     conv5_block3_1_relu[0][0]        \n",
            "__________________________________________________________________________________________________\n",
            "conv5_block3_2_bn (BatchNormali (None, 7, 7, 512)    2048        conv5_block3_2_conv[0][0]        \n",
            "__________________________________________________________________________________________________\n",
            "conv5_block3_2_relu (Activation (None, 7, 7, 512)    0           conv5_block3_2_bn[0][0]          \n",
            "__________________________________________________________________________________________________\n",
            "conv5_block3_3_conv (Conv2D)    (None, 7, 7, 2048)   1050624     conv5_block3_2_relu[0][0]        \n",
            "__________________________________________________________________________________________________\n",
            "conv5_block3_3_bn (BatchNormali (None, 7, 7, 2048)   8192        conv5_block3_3_conv[0][0]        \n",
            "__________________________________________________________________________________________________\n",
            "conv5_block3_add (Add)          (None, 7, 7, 2048)   0           conv5_block2_out[0][0]           \n",
            "                                                                 conv5_block3_3_bn[0][0]          \n",
            "__________________________________________________________________________________________________\n",
            "conv5_block3_out (Activation)   (None, 7, 7, 2048)   0           conv5_block3_add[0][0]           \n",
            "__________________________________________________________________________________________________\n",
            "flatten_2 (Flatten)             (None, 100352)       0           conv5_block3_out[0][0]           \n",
            "__________________________________________________________________________________________________\n",
            "dense_2 (Dense)                 (None, 4)            401412      flatten_2[0][0]                  \n",
            "==================================================================================================\n",
            "Total params: 23,989,124\n",
            "Trainable params: 401,412\n",
            "Non-trainable params: 23,587,712\n",
            "__________________________________________________________________________________________________\n"
          ],
          "name": "stdout"
        }
      ]
    },
    {
      "cell_type": "code",
      "metadata": {
        "id": "kmEDQfT-5gTc"
      },
      "source": [
        "# tell the model what cost and optimization method to use\n",
        "model.compile(\n",
        "  loss='categorical_crossentropy',\n",
        "  optimizer='adam',\n",
        "  metrics=['accuracy']\n",
        ")\n"
      ],
      "execution_count": 100,
      "outputs": []
    },
    {
      "cell_type": "code",
      "metadata": {
        "id": "wKthd2sV5gTd"
      },
      "source": [
        "# Use the Image Data Generator to import the images from the dataset\n",
        "from tensorflow.keras.preprocessing.image import ImageDataGenerator\n",
        "\n",
        "train_datagen = ImageDataGenerator(rescale = 1./255,\n",
        "                                   shear_range = 0.2,\n",
        "                                   zoom_range = 0.2,\n",
        "                                   horizontal_flip = True)\n",
        "\n",
        "test_datagen = ImageDataGenerator(rescale = 1./255)"
      ],
      "execution_count": 101,
      "outputs": []
    },
    {
      "cell_type": "code",
      "metadata": {
        "colab": {
          "base_uri": "https://localhost:8080/"
        },
        "id": "U37_HC6m5gTd",
        "outputId": "d4b9f4ae-ede9-4f38-be84-c73608cc9768"
      },
      "source": [
        "# Make sure you provide the same target size as initialied for the image size\n",
        "training_set = train_datagen.flow_from_directory('/content/drive/MyDrive/Cotton_Disease/train',\n",
        "                                                 target_size = (224, 224),\n",
        "                                                 batch_size = 32,\n",
        "                                                 class_mode = 'categorical')"
      ],
      "execution_count": 102,
      "outputs": [
        {
          "output_type": "stream",
          "text": [
            "Found 1951 images belonging to 4 classes.\n"
          ],
          "name": "stdout"
        }
      ]
    },
    {
      "cell_type": "code",
      "metadata": {
        "colab": {
          "base_uri": "https://localhost:8080/"
        },
        "id": "_R-wWxUq5gTd",
        "outputId": "4aae34fe-0ff5-4f6e-baae-1336c4932bbc"
      },
      "source": [
        "test_set = test_datagen.flow_from_directory('/content/drive/MyDrive/Cotton_Disease/test',\n",
        "                                            target_size = (224, 224),\n",
        "                                            batch_size = 32,\n",
        "                                            class_mode = 'categorical')"
      ],
      "execution_count": 103,
      "outputs": [
        {
          "output_type": "stream",
          "text": [
            "Found 106 images belonging to 4 classes.\n"
          ],
          "name": "stdout"
        }
      ]
    },
    {
      "cell_type": "code",
      "metadata": {
        "colab": {
          "base_uri": "https://localhost:8080/"
        },
        "id": "JgpQbMEy5gTd",
        "outputId": "e252da54-51ee-4c34-8141-b5dce49b6487"
      },
      "source": [
        "# fit the model\n",
        "# Run the cell. It will take some time to execute\n",
        "r = model.fit_generator(\n",
        "  training_set,\n",
        "  validation_data=test_set,\n",
        "  epochs=50,\n",
        "  steps_per_epoch=len(training_set),\n",
        "  validation_steps=len(test_set)\n",
        ")"
      ],
      "execution_count": 104,
      "outputs": [
        {
          "output_type": "stream",
          "text": [
            "/usr/local/lib/python3.7/dist-packages/tensorflow/python/keras/engine/training.py:1844: UserWarning: `Model.fit_generator` is deprecated and will be removed in a future version. Please use `Model.fit`, which supports generators.\n",
            "  warnings.warn('`Model.fit_generator` is deprecated and '\n"
          ],
          "name": "stderr"
        },
        {
          "output_type": "stream",
          "text": [
            "Epoch 1/50\n",
            "61/61 [==============================] - 39s 589ms/step - loss: 4.1625 - accuracy: 0.3438 - val_loss: 1.4827 - val_accuracy: 0.4717\n",
            "Epoch 2/50\n",
            "61/61 [==============================] - 34s 551ms/step - loss: 1.0730 - accuracy: 0.5322 - val_loss: 0.9747 - val_accuracy: 0.5377\n",
            "Epoch 3/50\n",
            "61/61 [==============================] - 34s 555ms/step - loss: 0.9340 - accuracy: 0.6135 - val_loss: 1.2236 - val_accuracy: 0.5000\n",
            "Epoch 4/50\n",
            "61/61 [==============================] - 34s 554ms/step - loss: 1.1401 - accuracy: 0.5642 - val_loss: 1.0999 - val_accuracy: 0.5094\n",
            "Epoch 5/50\n",
            "61/61 [==============================] - 34s 553ms/step - loss: 1.0410 - accuracy: 0.6123 - val_loss: 1.3688 - val_accuracy: 0.5755\n",
            "Epoch 6/50\n",
            "61/61 [==============================] - 34s 552ms/step - loss: 0.8837 - accuracy: 0.6790 - val_loss: 0.8597 - val_accuracy: 0.6321\n",
            "Epoch 7/50\n",
            "61/61 [==============================] - 34s 557ms/step - loss: 0.7262 - accuracy: 0.7176 - val_loss: 0.7194 - val_accuracy: 0.6698\n",
            "Epoch 8/50\n",
            "61/61 [==============================] - 34s 556ms/step - loss: 0.9070 - accuracy: 0.6708 - val_loss: 1.9284 - val_accuracy: 0.6038\n",
            "Epoch 9/50\n",
            "61/61 [==============================] - 34s 556ms/step - loss: 0.8282 - accuracy: 0.7128 - val_loss: 0.9044 - val_accuracy: 0.7075\n",
            "Epoch 10/50\n",
            "61/61 [==============================] - 34s 552ms/step - loss: 0.6171 - accuracy: 0.7681 - val_loss: 0.6777 - val_accuracy: 0.7264\n",
            "Epoch 11/50\n",
            "61/61 [==============================] - 34s 551ms/step - loss: 0.7125 - accuracy: 0.7235 - val_loss: 0.9794 - val_accuracy: 0.6226\n",
            "Epoch 12/50\n",
            "61/61 [==============================] - 34s 554ms/step - loss: 0.8159 - accuracy: 0.6910 - val_loss: 0.7681 - val_accuracy: 0.6887\n",
            "Epoch 13/50\n",
            "61/61 [==============================] - 34s 552ms/step - loss: 0.6270 - accuracy: 0.7600 - val_loss: 1.0000 - val_accuracy: 0.6792\n",
            "Epoch 14/50\n",
            "61/61 [==============================] - 34s 552ms/step - loss: 0.8846 - accuracy: 0.6802 - val_loss: 1.1225 - val_accuracy: 0.6698\n",
            "Epoch 15/50\n",
            "61/61 [==============================] - 34s 551ms/step - loss: 0.6337 - accuracy: 0.7501 - val_loss: 1.1741 - val_accuracy: 0.6509\n",
            "Epoch 16/50\n",
            "61/61 [==============================] - 34s 556ms/step - loss: 0.6947 - accuracy: 0.7387 - val_loss: 0.6584 - val_accuracy: 0.7170\n",
            "Epoch 17/50\n",
            "61/61 [==============================] - 34s 562ms/step - loss: 0.6689 - accuracy: 0.7525 - val_loss: 0.6730 - val_accuracy: 0.7075\n",
            "Epoch 18/50\n",
            "61/61 [==============================] - 34s 551ms/step - loss: 0.6795 - accuracy: 0.7360 - val_loss: 1.6463 - val_accuracy: 0.6132\n",
            "Epoch 19/50\n",
            "61/61 [==============================] - 34s 554ms/step - loss: 0.9257 - accuracy: 0.6968 - val_loss: 0.5997 - val_accuracy: 0.7453\n",
            "Epoch 20/50\n",
            "61/61 [==============================] - 34s 552ms/step - loss: 0.5605 - accuracy: 0.7815 - val_loss: 1.1004 - val_accuracy: 0.6887\n",
            "Epoch 21/50\n",
            "61/61 [==============================] - 34s 552ms/step - loss: 0.7283 - accuracy: 0.7296 - val_loss: 0.6773 - val_accuracy: 0.7547\n",
            "Epoch 22/50\n",
            "61/61 [==============================] - 34s 553ms/step - loss: 0.6926 - accuracy: 0.7373 - val_loss: 0.8041 - val_accuracy: 0.7264\n",
            "Epoch 23/50\n",
            "61/61 [==============================] - 34s 552ms/step - loss: 0.6927 - accuracy: 0.7572 - val_loss: 0.9473 - val_accuracy: 0.6887\n",
            "Epoch 24/50\n",
            "61/61 [==============================] - 34s 552ms/step - loss: 0.6025 - accuracy: 0.7767 - val_loss: 1.4816 - val_accuracy: 0.6415\n",
            "Epoch 25/50\n",
            "61/61 [==============================] - 34s 551ms/step - loss: 0.8706 - accuracy: 0.7132 - val_loss: 1.4585 - val_accuracy: 0.6887\n",
            "Epoch 26/50\n",
            "61/61 [==============================] - 34s 553ms/step - loss: 0.7733 - accuracy: 0.7316 - val_loss: 1.2191 - val_accuracy: 0.6509\n",
            "Epoch 27/50\n",
            "61/61 [==============================] - 34s 551ms/step - loss: 0.7448 - accuracy: 0.7453 - val_loss: 1.0155 - val_accuracy: 0.6604\n",
            "Epoch 28/50\n",
            "61/61 [==============================] - 34s 554ms/step - loss: 0.6265 - accuracy: 0.7498 - val_loss: 1.2921 - val_accuracy: 0.6509\n",
            "Epoch 29/50\n",
            "61/61 [==============================] - 34s 553ms/step - loss: 0.5122 - accuracy: 0.7867 - val_loss: 0.6856 - val_accuracy: 0.7547\n",
            "Epoch 30/50\n",
            "61/61 [==============================] - 34s 554ms/step - loss: 0.5720 - accuracy: 0.7743 - val_loss: 0.7120 - val_accuracy: 0.7264\n",
            "Epoch 31/50\n",
            "61/61 [==============================] - 34s 550ms/step - loss: 0.6294 - accuracy: 0.7643 - val_loss: 0.7967 - val_accuracy: 0.7264\n",
            "Epoch 32/50\n",
            "61/61 [==============================] - 34s 552ms/step - loss: 0.5686 - accuracy: 0.8002 - val_loss: 1.4101 - val_accuracy: 0.6509\n",
            "Epoch 33/50\n",
            "61/61 [==============================] - 34s 550ms/step - loss: 0.9987 - accuracy: 0.7277 - val_loss: 1.0297 - val_accuracy: 0.7358\n",
            "Epoch 34/50\n",
            "61/61 [==============================] - 34s 552ms/step - loss: 0.5581 - accuracy: 0.7868 - val_loss: 0.8062 - val_accuracy: 0.7358\n",
            "Epoch 35/50\n",
            "61/61 [==============================] - 34s 556ms/step - loss: 0.4616 - accuracy: 0.8376 - val_loss: 0.8422 - val_accuracy: 0.7264\n",
            "Epoch 36/50\n",
            "61/61 [==============================] - 34s 552ms/step - loss: 0.8811 - accuracy: 0.7397 - val_loss: 0.6375 - val_accuracy: 0.7830\n",
            "Epoch 37/50\n",
            "61/61 [==============================] - 34s 552ms/step - loss: 0.6339 - accuracy: 0.7591 - val_loss: 0.7472 - val_accuracy: 0.7170\n",
            "Epoch 38/50\n",
            "61/61 [==============================] - 34s 550ms/step - loss: 0.5451 - accuracy: 0.7934 - val_loss: 0.9992 - val_accuracy: 0.7264\n",
            "Epoch 39/50\n",
            "61/61 [==============================] - 34s 553ms/step - loss: 0.6716 - accuracy: 0.7606 - val_loss: 1.4375 - val_accuracy: 0.6698\n",
            "Epoch 40/50\n",
            "61/61 [==============================] - 34s 555ms/step - loss: 0.6523 - accuracy: 0.7765 - val_loss: 1.0370 - val_accuracy: 0.6415\n",
            "Epoch 41/50\n",
            "61/61 [==============================] - 33s 543ms/step - loss: 0.6267 - accuracy: 0.7849 - val_loss: 1.1974 - val_accuracy: 0.7075\n",
            "Epoch 42/50\n",
            "61/61 [==============================] - 33s 540ms/step - loss: 0.6985 - accuracy: 0.7689 - val_loss: 0.8118 - val_accuracy: 0.7453\n",
            "Epoch 43/50\n",
            "61/61 [==============================] - 33s 540ms/step - loss: 0.5709 - accuracy: 0.8003 - val_loss: 0.5892 - val_accuracy: 0.8113\n",
            "Epoch 44/50\n",
            "61/61 [==============================] - 34s 551ms/step - loss: 0.6375 - accuracy: 0.7836 - val_loss: 0.6731 - val_accuracy: 0.8019\n",
            "Epoch 45/50\n",
            "61/61 [==============================] - 34s 555ms/step - loss: 0.5974 - accuracy: 0.7852 - val_loss: 0.9130 - val_accuracy: 0.7358\n",
            "Epoch 46/50\n",
            "61/61 [==============================] - 34s 554ms/step - loss: 0.5551 - accuracy: 0.7965 - val_loss: 2.1684 - val_accuracy: 0.5660\n",
            "Epoch 47/50\n",
            "61/61 [==============================] - 34s 550ms/step - loss: 0.5589 - accuracy: 0.7924 - val_loss: 0.6932 - val_accuracy: 0.7925\n",
            "Epoch 48/50\n",
            "61/61 [==============================] - 34s 555ms/step - loss: 0.4753 - accuracy: 0.8139 - val_loss: 1.9259 - val_accuracy: 0.6321\n",
            "Epoch 49/50\n",
            "61/61 [==============================] - 34s 551ms/step - loss: 0.8075 - accuracy: 0.7335 - val_loss: 0.8090 - val_accuracy: 0.7453\n",
            "Epoch 50/50\n",
            "61/61 [==============================] - 34s 552ms/step - loss: 0.6718 - accuracy: 0.7718 - val_loss: 0.6211 - val_accuracy: 0.7830\n"
          ],
          "name": "stdout"
        }
      ]
    },
    {
      "cell_type": "code",
      "metadata": {
        "id": "fN_M2d1L5gTe"
      },
      "source": [
        ""
      ],
      "execution_count": 104,
      "outputs": []
    },
    {
      "cell_type": "code",
      "metadata": {
        "colab": {
          "base_uri": "https://localhost:8080/",
          "height": 530
        },
        "id": "hqGxbXj_5gTe",
        "outputId": "e91633f7-52e1-4396-c126-6091c4d73c57"
      },
      "source": [
        "# plot the loss\n",
        "import matplotlib.pyplot as plt\n",
        "plt.plot(r.history['loss'], label='train loss')\n",
        "plt.plot(r.history['val_loss'], label='val loss')\n",
        "plt.legend()\n",
        "plt.show()\n",
        "plt.savefig('LossVal_loss_cotton_ResNet50')\n",
        "\n",
        "# plot the accuracy\n",
        "plt.plot(r.history['accuracy'], label='train acc')\n",
        "plt.plot(r.history['val_accuracy'], label='val acc')\n",
        "plt.legend()\n",
        "plt.show()\n",
        "plt.savefig('AccVal_acc_cotton_ResNet50')"
      ],
      "execution_count": 105,
      "outputs": [
        {
          "output_type": "display_data",
          "data": {
            "image/png": "[encoded data removed]",
            "text/plain": [
              "<Figure size 432x288 with 1 Axes>"
            ]
          },
          "metadata": {
            "tags": [],
            "needs_background": "light"
          }
        },
        {
          "output_type": "display_data",
          "data": {
            "image/png": "[encoded data removed]",
            "text/plain": [
              "<Figure size 432x288 with 1 Axes>"
            ]
          },
          "metadata": {
            "tags": [],
            "needs_background": "light"
          }
        },
        {
          "output_type": "display_data",
          "data": {
            "text/plain": [
              "<Figure size 432x288 with 0 Axes>"
            ]
          },
          "metadata": {
            "tags": []
          }
        }
      ]
    },
    {
      "cell_type": "code",
      "metadata": {
        "id": "pCRcTuoU5gTe"
      },
      "source": [
        "# save it as a h5 file\n",
        "\n",
        "\n",
        "from tensorflow.keras.models import load_model\n",
        "\n",
        "model.save('model_cotton_ResNet50.h5')"
      ],
      "execution_count": 106,
      "outputs": []
    },
    {
      "cell_type": "code",
      "metadata": {
        "id": "MTVOQEA85gTe"
      },
      "source": [
        ""
      ],
      "execution_count": 106,
      "outputs": []
    },
    {
      "cell_type": "code",
      "metadata": {
        "id": "Y9xgnC565gTe"
      },
      "source": [
        "\n",
        "y_pred = model.predict(test_set)\n"
      ],
      "execution_count": 107,
      "outputs": []
    },
    {
      "cell_type": "code",
      "metadata": {
        "colab": {
          "base_uri": "https://localhost:8080/"
        },
        "id": "Nj0NE94c5gTf",
        "outputId": "46fd8145-1c1b-48a1-9249-7536737c50af"
      },
      "source": [
        "y_pred"
      ],
      "execution_count": 108,
      "outputs": [
        {
          "output_type": "execute_result",
          "data": {
            "text/plain": [
              "array([[6.07247472e-01, 3.81209761e-01, 1.13566086e-04, 1.14292642e-02],\n",
              "       [6.17573751e-05, 9.97101128e-01, 1.75201407e-04, 2.66186520e-03],\n",
              "       [9.99999762e-01, 2.60027690e-07, 2.45458498e-09, 2.42182274e-09],\n",
              "       [9.90596414e-01, 9.28470306e-03, 3.20053186e-05, 8.69009673e-05],\n",
              "       [3.06031611e-02, 8.38644989e-03, 9.60472882e-01, 5.37482905e-04],\n",
              "       [9.83909355e-04, 1.86025072e-02, 1.38562784e-01, 8.41850817e-01],\n",
              "       [6.56399084e-03, 2.16121346e-01, 5.81820868e-02, 7.19132543e-01],\n",
              "       [1.18146942e-03, 9.84932125e-01, 6.73548857e-06, 1.38796391e-02],\n",
              "       [5.49046599e-05, 9.98289883e-01, 4.87523835e-07, 1.65476184e-03],\n",
              "       [9.99994040e-01, 1.26508809e-07, 2.47013764e-11, 5.82151779e-06],\n",
              "       [4.21297067e-04, 6.49190784e-01, 7.82618736e-05, 3.50309700e-01],\n",
              "       [2.74699880e-04, 2.29462326e-04, 9.99443710e-01, 5.20828835e-05],\n",
              "       [2.35885009e-02, 1.67803082e-04, 9.60400105e-01, 1.58436093e-02],\n",
              "       [6.43221196e-04, 2.98539311e-01, 5.30488964e-04, 7.00286984e-01],\n",
              "       [2.86949478e-04, 2.04372942e-03, 2.69785128e-03, 9.94971395e-01],\n",
              "       [6.85021400e-01, 2.19532683e-01, 8.18490908e-02, 1.35968365e-02],\n",
              "       [4.07655314e-02, 8.05484280e-02, 4.26731527e-01, 4.51954484e-01],\n",
              "       [7.08186824e-04, 3.75248551e-01, 3.73776280e-03, 6.20305538e-01],\n",
              "       [2.95294262e-02, 7.17687666e-01, 1.29101663e-05, 2.52770036e-01],\n",
              "       [5.11929035e-01, 2.76486486e-01, 4.01068255e-02, 1.71477690e-01],\n",
              "       [3.24524648e-04, 9.99418139e-01, 5.75383410e-07, 2.56746338e-04],\n",
              "       [2.92799668e-03, 7.90878117e-01, 2.95121004e-06, 2.06190944e-01],\n",
              "       [5.33240700e-06, 8.97214704e-07, 9.99849796e-01, 1.44026417e-04],\n",
              "       [9.42942724e-02, 8.79246593e-01, 2.29157582e-02, 3.54333641e-03],\n",
              "       [1.46316681e-02, 9.71483231e-01, 1.19907536e-05, 1.38731329e-02],\n",
              "       [5.30988269e-04, 3.28801990e-01, 4.31526569e-04, 6.70235515e-01],\n",
              "       [1.68236238e-05, 1.70025218e-04, 4.31101398e-05, 9.99769986e-01],\n",
              "       [1.16446856e-02, 2.74815768e-01, 1.24271521e-02, 7.01112390e-01],\n",
              "       [1.84706692e-02, 5.19874878e-03, 9.72733676e-01, 3.59698012e-03],\n",
              "       [1.49470026e-04, 5.95834665e-03, 7.09588349e-01, 2.84303874e-01],\n",
              "       [1.58108681e-01, 6.98730767e-01, 7.30226189e-02, 7.01379552e-02],\n",
              "       [9.99993920e-01, 1.54356599e-07, 4.77346816e-07, 5.45927287e-06],\n",
              "       [1.13988051e-03, 8.53859365e-01, 1.37386369e-05, 1.44986928e-01],\n",
              "       [1.10408175e-03, 3.61536934e-07, 9.98874724e-01, 2.08508900e-05],\n",
              "       [1.30212720e-04, 1.52566135e-01, 3.68110836e-04, 8.46935570e-01],\n",
              "       [5.70121374e-05, 1.02873579e-04, 5.10093014e-06, 9.99835014e-01],\n",
              "       [1.53782330e-02, 2.16000136e-02, 1.80832838e-04, 9.62841034e-01],\n",
              "       [4.86079425e-01, 4.14116800e-01, 6.59166952e-04, 9.91445407e-02],\n",
              "       [6.52949279e-03, 1.31174568e-02, 8.14246953e-01, 1.66106120e-01],\n",
              "       [2.76935399e-02, 8.14320624e-01, 5.99001348e-03, 1.51995823e-01],\n",
              "       [1.17712530e-04, 9.95407224e-01, 4.02083003e-07, 4.47464455e-03],\n",
              "       [1.76260328e-05, 1.11151850e-04, 4.02828521e-10, 9.99871254e-01],\n",
              "       [6.99080886e-07, 4.49680204e-09, 9.99998808e-01, 5.34706089e-07],\n",
              "       [1.66839513e-03, 4.79429655e-05, 9.69161987e-01, 2.91216336e-02],\n",
              "       [4.09893364e-01, 5.72401404e-01, 6.18723407e-03, 1.15180528e-02],\n",
              "       [2.26745545e-03, 8.81237090e-01, 6.95791532e-05, 1.16425909e-01],\n",
              "       [1.58025814e-05, 9.10516537e-04, 9.99062717e-01, 1.09695684e-05],\n",
              "       [9.83909355e-04, 1.86025072e-02, 1.38562784e-01, 8.41850817e-01],\n",
              "       [1.37183014e-02, 8.97424757e-01, 1.28146284e-03, 8.75753909e-02],\n",
              "       [1.00000000e+00, 3.59682110e-11, 1.04318637e-12, 1.53294462e-08],\n",
              "       [9.99995470e-01, 3.33125854e-06, 1.16841397e-06, 1.61652540e-08],\n",
              "       [1.83213577e-01, 7.38844797e-02, 5.63123031e-03, 7.37270653e-01],\n",
              "       [1.44759397e-04, 9.93442655e-01, 3.09614232e-04, 6.10303506e-03],\n",
              "       [5.12031931e-03, 2.48750355e-02, 9.29116070e-01, 4.08885144e-02],\n",
              "       [1.30309975e-02, 5.22572547e-04, 7.08261490e-01, 2.78184861e-01],\n",
              "       [1.03273662e-03, 9.85599875e-01, 1.28972833e-05, 1.33544449e-02],\n",
              "       [1.57929062e-05, 5.47455112e-03, 1.65679492e-04, 9.94343996e-01],\n",
              "       [6.39320863e-03, 2.42483566e-06, 9.93600249e-01, 4.16332068e-06],\n",
              "       [4.23111225e-04, 3.94164879e-08, 9.99576867e-01, 8.56037286e-09],\n",
              "       [1.25404843e-03, 1.05572127e-01, 1.40163768e-02, 8.79157484e-01],\n",
              "       [9.99991179e-01, 6.37100084e-06, 3.22207597e-07, 2.18682612e-06],\n",
              "       [9.38236131e-04, 1.67471766e-01, 1.55927730e-03, 8.30030680e-01],\n",
              "       [3.46571095e-02, 9.63225126e-01, 1.78972314e-07, 2.11765477e-03],\n",
              "       [2.49934345e-02, 7.92668376e-04, 3.96537423e-01, 5.77676475e-01],\n",
              "       [2.44878069e-03, 2.50404328e-02, 4.26712573e-01, 5.45798182e-01],\n",
              "       [2.20298823e-02, 1.35040861e-02, 1.72847579e-03, 9.62737501e-01],\n",
              "       [3.56736680e-04, 9.89859045e-01, 3.81708833e-06, 9.78039484e-03],\n",
              "       [2.36126105e-03, 8.92680407e-01, 5.96027530e-06, 1.04952350e-01],\n",
              "       [4.42793965e-03, 9.82464850e-01, 5.69573045e-03, 7.41154328e-03],\n",
              "       [2.47436197e-04, 3.69074494e-01, 1.16211432e-03, 6.29515946e-01],\n",
              "       [6.64417882e-07, 1.35173782e-11, 9.99999285e-01, 2.56751465e-09],\n",
              "       [1.95241009e-04, 1.37580219e-05, 9.99776065e-01, 1.49138959e-05],\n",
              "       [9.99999642e-01, 2.23848943e-07, 1.10637917e-08, 6.74893741e-08],\n",
              "       [2.46871437e-04, 2.74137259e-02, 1.33860798e-04, 9.72205520e-01],\n",
              "       [4.13010770e-04, 9.53220904e-01, 7.20390526e-05, 4.62939814e-02],\n",
              "       [8.48944545e-01, 9.92065296e-03, 7.79628083e-02, 6.31720424e-02],\n",
              "       [1.63664838e-04, 6.98124886e-01, 1.48230043e-04, 3.01563203e-01],\n",
              "       [2.50128862e-02, 2.78380793e-02, 6.30963668e-02, 8.84052694e-01],\n",
              "       [3.06986156e-04, 9.86836195e-01, 4.95205422e-05, 1.28072836e-02],\n",
              "       [4.40352824e-06, 6.63911283e-04, 5.03340212e-04, 9.98828351e-01],\n",
              "       [1.52875890e-03, 2.60191321e-01, 3.53328528e-06, 7.38276422e-01],\n",
              "       [1.26273453e-05, 2.53362302e-02, 4.97279863e-04, 9.74153936e-01],\n",
              "       [1.98902518e-01, 4.13889915e-01, 3.46803805e-03, 3.83739591e-01],\n",
              "       [3.24536800e-01, 4.60064563e-04, 6.74891472e-01, 1.11658352e-04],\n",
              "       [3.68409674e-03, 9.75798070e-01, 1.34124758e-03, 1.91766080e-02],\n",
              "       [1.58885797e-03, 1.90952197e-01, 5.55524349e-01, 2.51934618e-01],\n",
              "       [4.18437412e-03, 2.60834917e-02, 3.92370159e-03, 9.65808392e-01],\n",
              "       [9.99898553e-01, 9.02613101e-05, 3.79427956e-06, 7.46369960e-06],\n",
              "       [9.42704856e-01, 1.13853952e-02, 3.29157747e-02, 1.29940249e-02],\n",
              "       [9.99803007e-01, 8.64936374e-05, 6.95454527e-11, 1.10508736e-04],\n",
              "       [1.04386627e-03, 9.76575073e-04, 9.94571626e-01, 3.40793468e-03],\n",
              "       [4.35844669e-03, 4.46667010e-03, 9.88802850e-01, 2.37204484e-03],\n",
              "       [1.85648969e-05, 5.88761964e-07, 9.99869823e-01, 1.10995556e-04],\n",
              "       [9.02663887e-05, 4.74935919e-02, 2.29599513e-03, 9.50120151e-01],\n",
              "       [9.25738423e-04, 1.27129033e-01, 2.35355874e-05, 8.71921718e-01],\n",
              "       [8.32464546e-02, 8.89279187e-01, 6.65562460e-03, 2.08187811e-02],\n",
              "       [9.99805748e-01, 9.97257303e-07, 4.31098078e-06, 1.89046506e-04],\n",
              "       [3.88016750e-04, 7.98558652e-01, 1.45596243e-03, 1.99597403e-01],\n",
              "       [1.07402843e-03, 1.54498741e-01, 2.97729718e-03, 8.41449916e-01],\n",
              "       [1.78796487e-04, 9.98747230e-01, 8.71349130e-06, 1.06515060e-03],\n",
              "       [3.33020609e-04, 6.19602506e-05, 9.98791397e-01, 8.13680177e-04],\n",
              "       [3.27850459e-03, 4.17210422e-02, 6.61598802e-01, 2.93401599e-01],\n",
              "       [1.12502996e-04, 9.97662902e-01, 2.95994710e-07, 2.22428492e-03],\n",
              "       [4.28354106e-05, 9.79139686e-01, 9.57189528e-09, 2.08174549e-02],\n",
              "       [1.08185317e-02, 2.60533720e-01, 4.24827635e-02, 6.86164975e-01],\n",
              "       [1.75723294e-03, 9.91696835e-01, 4.25370956e-07, 6.54552039e-03]],\n",
              "      dtype=float32)"
            ]
          },
          "metadata": {
            "tags": []
          },
          "execution_count": 108
        }
      ]
    },
    {
      "cell_type": "code",
      "metadata": {
        "id": "jYoZhAz55gTf"
      },
      "source": [
        "import numpy as np\n",
        "y_pred = np.argmax(y_pred, axis=1)"
      ],
      "execution_count": 109,
      "outputs": []
    },
    {
      "cell_type": "code",
      "metadata": {
        "colab": {
          "base_uri": "https://localhost:8080/"
        },
        "id": "NV7EKTHi5gTf",
        "outputId": "f7c57f40-1a9c-4eab-c7ac-9c7a56e04ef5"
      },
      "source": [
        "y_pred"
      ],
      "execution_count": 110,
      "outputs": [
        {
          "output_type": "execute_result",
          "data": {
            "text/plain": [
              "array([0, 1, 0, 0, 2, 3, 3, 1, 1, 0, 1, 2, 2, 3, 3, 0, 3, 3, 1, 0, 1, 1,\n",
              "       2, 1, 1, 3, 3, 3, 2, 2, 1, 0, 1, 2, 3, 3, 3, 0, 2, 1, 1, 3, 2, 2,\n",
              "       1, 1, 2, 3, 1, 0, 0, 3, 1, 2, 2, 1, 3, 2, 2, 3, 0, 3, 1, 3, 3, 3,\n",
              "       1, 1, 1, 3, 2, 2, 0, 3, 1, 0, 1, 3, 1, 3, 3, 3, 1, 2, 1, 2, 3, 0,\n",
              "       0, 0, 2, 2, 2, 3, 3, 1, 0, 1, 3, 1, 2, 2, 1, 1, 3, 1])"
            ]
          },
          "metadata": {
            "tags": []
          },
          "execution_count": 110
        }
      ]
    },
    {
      "cell_type": "code",
      "metadata": {
        "id": "_QRqoT8P5gTf"
      },
      "source": [
        ""
      ],
      "execution_count": 110,
      "outputs": []
    },
    {
      "cell_type": "code",
      "metadata": {
        "id": "mUg_JML95gTf"
      },
      "source": [
        "from tensorflow.keras.models import load_model\n",
        "from tensorflow.keras.preprocessing import image"
      ],
      "execution_count": 111,
      "outputs": []
    },
    {
      "cell_type": "code",
      "metadata": {
        "id": "DGXQXhdb5gTf"
      },
      "source": [
        "model=load_model('model_cotton_ResNet50.h5')"
      ],
      "execution_count": 112,
      "outputs": []
    },
    {
      "cell_type": "code",
      "metadata": {
        "id": "tnpHLvvR5gTg"
      },
      "source": [
        "img=image.load_img('/content/drive/MyDrive/Cotton_Disease/test/diseased cotton leaf/dis_leaf (173)_iaip.jpg',target_size=(224,224))"
      ],
      "execution_count": 113,
      "outputs": []
    },
    {
      "cell_type": "code",
      "metadata": {
        "colab": {
          "base_uri": "https://localhost:8080/",
          "height": 241
        },
        "id": "qmS4YTq2IwiG",
        "outputId": "6525c233-48da-4d81-b77b-16b630f8f99c"
      },
      "source": [
        "img"
      ],
      "execution_count": 114,
      "outputs": [
        {
          "output_type": "execute_result",
          "data": {
            "image/png": "[encoded data removed]",
            "text/plain": [
              "<PIL.Image.Image image mode=RGB size=224x224 at 0x7FCA11F13950>"
            ]
          },
          "metadata": {
            "tags": []
          },
          "execution_count": 114
        }
      ]
    },
    {
      "cell_type": "code",
      "metadata": {
        "colab": {
          "base_uri": "https://localhost:8080/"
        },
        "id": "tpSV_I6i5gTg",
        "outputId": "4f35dded-68d5-4e39-cd57-2da1a3854a63"
      },
      "source": [
        "x=image.img_to_array(img)\n",
        "x"
      ],
      "execution_count": 115,
      "outputs": [
        {
          "output_type": "execute_result",
          "data": {
            "text/plain": [
              "array([[[223., 235., 133.],\n",
              "        [229., 241., 139.],\n",
              "        [225., 237., 135.],\n",
              "        ...,\n",
              "        [ 53.,  51.,  36.],\n",
              "        [ 62.,  54.,  35.],\n",
              "        [ 61.,  53.,  34.]],\n",
              "\n",
              "       [[219., 231., 129.],\n",
              "        [220., 232., 130.],\n",
              "        [223., 235., 133.],\n",
              "        ...,\n",
              "        [ 51.,  49.,  34.],\n",
              "        [ 60.,  52.,  33.],\n",
              "        [ 63.,  55.,  36.]],\n",
              "\n",
              "       [[223., 235., 133.],\n",
              "        [220., 232., 130.],\n",
              "        [228., 240., 138.],\n",
              "        ...,\n",
              "        [ 49.,  47.,  32.],\n",
              "        [ 66.,  58.,  39.],\n",
              "        [ 71.,  63.,  44.]],\n",
              "\n",
              "       ...,\n",
              "\n",
              "       [[ 56.,  50.,  36.],\n",
              "        [ 56.,  50.,  36.],\n",
              "        [ 56.,  50.,  36.],\n",
              "        ...,\n",
              "        [105.,  89.,  73.],\n",
              "        [ 87.,  75.,  61.],\n",
              "        [ 77.,  65.,  51.]],\n",
              "\n",
              "       [[ 54.,  51.,  32.],\n",
              "        [ 58.,  53.,  33.],\n",
              "        [ 57.,  49.,  28.],\n",
              "        ...,\n",
              "        [128., 104.,  76.],\n",
              "        [100.,  85.,  64.],\n",
              "        [ 78.,  63.,  42.]],\n",
              "\n",
              "       [[ 58.,  55.,  36.],\n",
              "        [ 62.,  57.,  37.],\n",
              "        [ 61.,  53.,  32.],\n",
              "        ...,\n",
              "        [126., 102.,  74.],\n",
              "        [107.,  92.,  71.],\n",
              "        [ 89.,  74.,  53.]]], dtype=float32)"
            ]
          },
          "metadata": {
            "tags": []
          },
          "execution_count": 115
        }
      ]
    },
    {
      "cell_type": "code",
      "metadata": {
        "colab": {
          "base_uri": "https://localhost:8080/"
        },
        "id": "DbnEe-v45gTg",
        "outputId": "3cfa46fb-b29e-47c4-8079-a041c52c177e"
      },
      "source": [
        "x.shape"
      ],
      "execution_count": 116,
      "outputs": [
        {
          "output_type": "execute_result",
          "data": {
            "text/plain": [
              "(224, 224, 3)"
            ]
          },
          "metadata": {
            "tags": []
          },
          "execution_count": 116
        }
      ]
    },
    {
      "cell_type": "code",
      "metadata": {
        "id": "9bsL5N5RKoUu"
      },
      "source": [
        "test_image = image.img_to_array(x)\n",
        "test_image = test_image/255\n",
        "test_image = np.expand_dims(test_image, axis = 0)\n",
        "result = model.predict(test_image)"
      ],
      "execution_count": 117,
      "outputs": []
    },
    {
      "cell_type": "code",
      "metadata": {
        "colab": {
          "base_uri": "https://localhost:8080/"
        },
        "id": "bg18UMGPLzsQ",
        "outputId": "587a9700-5609-4e8e-f34b-347c4de88555"
      },
      "source": [
        "result"
      ],
      "execution_count": 118,
      "outputs": [
        {
          "output_type": "execute_result",
          "data": {
            "text/plain": [
              "array([[0.19891492, 0.41390547, 0.00346806, 0.38371155]], dtype=float32)"
            ]
          },
          "metadata": {
            "tags": []
          },
          "execution_count": 118
        }
      ]
    },
    {
      "cell_type": "code",
      "metadata": {
        "id": "VXHGCypPMNY6"
      },
      "source": [
        ""
      ],
      "execution_count": 118,
      "outputs": []
    },
    {
      "cell_type": "code",
      "metadata": {
        "colab": {
          "base_uri": "https://localhost:8080/"
        },
        "id": "oTzT4uU35gTg",
        "outputId": "65904541-7ae4-40c1-bc3a-c6d217d4be67"
      },
      "source": [
        "model.predict(test_image)"
      ],
      "execution_count": 119,
      "outputs": [
        {
          "output_type": "execute_result",
          "data": {
            "text/plain": [
              "array([[0.19891492, 0.41390547, 0.00346806, 0.38371155]], dtype=float32)"
            ]
          },
          "metadata": {
            "tags": []
          },
          "execution_count": 119
        }
      ]
    },
    {
      "cell_type": "code",
      "metadata": {
        "id": "uw4dStir5gTg"
      },
      "source": [
        "a=np.argmax(model.predict(test_image), axis=1)"
      ],
      "execution_count": 120,
      "outputs": []
    },
    {
      "cell_type": "code",
      "metadata": {
        "colab": {
          "base_uri": "https://localhost:8080/"
        },
        "id": "mOqzYlYnM3VI",
        "outputId": "f80cc0f3-ddab-4705-9666-7d0bc2b09f94"
      },
      "source": [
        "a"
      ],
      "execution_count": 121,
      "outputs": [
        {
          "output_type": "execute_result",
          "data": {
            "text/plain": [
              "array([1])"
            ]
          },
          "metadata": {
            "tags": []
          },
          "execution_count": 121
        }
      ]
    },
    {
      "cell_type": "code",
      "metadata": {
        "colab": {
          "base_uri": "https://localhost:8080/"
        },
        "id": "sVeDC9hp5gTh",
        "outputId": "951dc59f-8912-48c6-cd99-ed7dc234934e"
      },
      "source": [
        "if a == 0:\n",
        "    print(\"Diseased cotton leaf\")\n",
        "elif a == 1:\n",
        "  print(\"Diseased cotton plant\")\n",
        "elif a == 2:\n",
        "  print(\"Fresh cotton leaf\")\n",
        "else:\n",
        "  print(\"Fresh cotton plant\")"
      ],
      "execution_count": 122,
      "outputs": [
        {
          "output_type": "stream",
          "text": [
            "Diseased cotton plant\n"
          ],
          "name": "stdout"
        }
      ]
    },
    {
      "cell_type": "code",
      "metadata": {
        "id": "UdNBsqXoNGEG"
      },
      "source": [
        ""
      ],
      "execution_count": null,
      "outputs": []
    }
  ]
}