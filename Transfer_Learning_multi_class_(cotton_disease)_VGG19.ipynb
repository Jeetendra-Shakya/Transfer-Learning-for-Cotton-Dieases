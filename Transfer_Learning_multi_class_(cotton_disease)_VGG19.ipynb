{
  "nbformat": 4,
  "nbformat_minor": 0,
  "metadata": {
    "kernelspec": {
      "display_name": "Python 3",
      "language": "python",
      "name": "python3"
    },
    "language_info": {
      "codemirror_mode": {
        "name": "ipython",
        "version": 3
      },
      "file_extension": ".py",
      "mimetype": "text/x-python",
      "name": "python",
      "nbconvert_exporter": "python",
      "pygments_lexer": "ipython3",
      "version": "3.7.7"
    },
    "colab": {
      "name": "Transfer Learning multi class (cotton disease) VGG19.ipynb",
      "provenance": [],
      "collapsed_sections": [],
      "machine_shape": "hm"
    },
    "accelerator": "GPU"
  },
  "cells": [
    {
      "cell_type": "markdown",
      "metadata": {
        "id": "VLimBEVS5gTT"
      },
      "source": [
        "## Transfer Learning VGG19 using Keras"
      ]
    },
    {
      "cell_type": "code",
      "metadata": {
        "colab": {
          "base_uri": "https://localhost:8080/"
        },
        "id": "XJmb2YduxvgO",
        "outputId": "8385da8d-9acb-4864-d970-b029e428f309"
      },
      "source": [
        "# This model was created using google colab:\n",
        "# To check your GPU\n",
        "gpu_info = !nvidia-smi\n",
        "gpu_info = '\\n'.join(gpu_info)\n",
        "if gpu_info.find('failed') >= 0:\n",
        "  print('Select the Runtime > \"Change runtime type\" menu to enable a GPU accelerator, ')\n",
        "  print('and then re-execute this cell.')\n",
        "else:\n",
        "  print(gpu_info)"
      ],
      "execution_count": 2,
      "outputs": [
        {
          "output_type": "stream",
          "text": [
            "Wed Apr 28 12:10:09 2021       \n",
            "+-----------------------------------------------------------------------------+\n",
            "| NVIDIA-SMI 465.19.01    Driver Version: 460.32.03    CUDA Version: 11.2     |\n",
            "|-------------------------------+----------------------+----------------------+\n",
            "| GPU  Name        Persistence-M| Bus-Id        Disp.A | Volatile Uncorr. ECC |\n",
            "| Fan  Temp  Perf  Pwr:Usage/Cap|         Memory-Usage | GPU-Util  Compute M. |\n",
            "|                               |                      |               MIG M. |\n",
            "|===============================+======================+======================|\n",
            "|   0  Tesla P100-PCIE...  Off  | 00000000:00:04.0 Off |                    0 |\n",
            "| N/A   33C    P0    28W / 250W |      0MiB / 16280MiB |      0%      Default |\n",
            "|                               |                      |                  N/A |\n",
            "+-------------------------------+----------------------+----------------------+\n",
            "                                                                               \n",
            "+-----------------------------------------------------------------------------+\n",
            "| Processes:                                                                  |\n",
            "|  GPU   GI   CI        PID   Type   Process name                  GPU Memory |\n",
            "|        ID   ID                                                   Usage      |\n",
            "|=============================================================================|\n",
            "|  No running processes found                                                 |\n",
            "+-----------------------------------------------------------------------------+\n"
          ],
          "name": "stdout"
        }
      ]
    },
    {
      "cell_type": "markdown",
      "metadata": {
        "id": "JwPtW0pr5gTY"
      },
      "source": [
        "Please download the dataset from the below url"
      ]
    },
    {
      "cell_type": "code",
      "metadata": {
        "colab": {
          "base_uri": "https://localhost:8080/"
        },
        "id": "RjX6bu9t5gTZ",
        "outputId": "9a0a3565-57de-40ea-bdc3-22d203f5c950"
      },
      "source": [
        "# Tensorflow GPU\n",
        "import tensorflow as tf \n",
        "\n",
        "if tf.test.gpu_device_name(): \n",
        "    \n",
        "\n",
        "    print('Default GPU Device:{}'.format(tf.test.gpu_device_name()))\n",
        "\n",
        "else:\n",
        "\n",
        "    print(\"Please install GPU version of TF\")"
      ],
      "execution_count": 3,
      "outputs": [
        {
          "output_type": "stream",
          "text": [
            "Default GPU Device:/device:GPU:0\n"
          ],
          "name": "stdout"
        }
      ]
    },
    {
      "cell_type": "code",
      "metadata": {
        "colab": {
          "base_uri": "https://localhost:8080/"
        },
        "id": "t5G1pYTXx2YL",
        "outputId": "d51e4a91-2203-44fc-faf6-c8c4ff68ef75"
      },
      "source": [
        "# Mount google drive\n",
        "from google.colab import drive\n",
        "drive.mount('/content/drive/')"
      ],
      "execution_count": 4,
      "outputs": [
        {
          "output_type": "stream",
          "text": [
            "Drive already mounted at /content/drive/; to attempt to forcibly remount, call drive.mount(\"/content/drive/\", force_remount=True).\n"
          ],
          "name": "stdout"
        }
      ]
    },
    {
      "cell_type": "code",
      "metadata": {
        "id": "f22Sb6G6JzVa"
      },
      "source": [
        "# Unzip the file\n",
        "#!unzip /content/drive/MyDrive/Datasets.zip"
      ],
      "execution_count": 5,
      "outputs": []
    },
    {
      "cell_type": "code",
      "metadata": {
        "colab": {
          "base_uri": "https://localhost:8080/",
          "height": 35
        },
        "id": "8YHFbgFw5gTa",
        "outputId": "8c1c1448-4927-42d7-8912-5b2ee7d4d695"
      },
      "source": [
        "tf.test.gpu_device_name()"
      ],
      "execution_count": 6,
      "outputs": [
        {
          "output_type": "execute_result",
          "data": {
            "application/vnd.google.colaboratory.intrinsic+json": {
              "type": "string"
            },
            "text/plain": [
              "'/device:GPU:0'"
            ]
          },
          "metadata": {
            "tags": []
          },
          "execution_count": 6
        }
      ]
    },
    {
      "cell_type": "code",
      "metadata": {
        "id": "oIoUDmVV5gTa"
      },
      "source": [
        "# import the libraries as shown below\n",
        "\n",
        "from tensorflow.keras.layers import Input, Lambda, Dense, Flatten\n",
        "from tensorflow.keras.models import Model\n",
        "from tensorflow.keras.applications.vgg19 import VGG19\n",
        "from tensorflow.keras.applications.vgg19 import preprocess_input\n",
        "from tensorflow.keras.preprocessing import image\n",
        "from tensorflow.keras.preprocessing.image import ImageDataGenerator,load_img\n",
        "from tensorflow.keras.models import Sequential\n",
        "import numpy as np\n",
        "from glob import glob\n"
      ],
      "execution_count": 107,
      "outputs": []
    },
    {
      "cell_type": "code",
      "metadata": {
        "id": "pFFJLhJ35gTb"
      },
      "source": [
        "# re-size all the images to this\n",
        "IMAGE_SIZE = [224, 224]\n",
        "\n",
        "train_path = '/content/drive/MyDrive/Cotton_Disease/train'\n",
        "valid_path = '/content/drive/MyDrive/Cotton_Disease/test'\n"
      ],
      "execution_count": 108,
      "outputs": []
    },
    {
      "cell_type": "code",
      "metadata": {
        "colab": {
          "base_uri": "https://localhost:8080/"
        },
        "id": "kqm09FEr5gTb",
        "outputId": "f35e64d6-74dd-496e-8783-d2d41761862f"
      },
      "source": [
        "# Import the Vgg 19 library as shown below and add preprocessing layer to the front of VGG\n",
        "# Here we will be using imagenet weights\n",
        "\n",
        "VGG19 = VGG19(input_shape=IMAGE_SIZE + [3], weights='imagenet', include_top=False)\n",
        "\n",
        "\n"
      ],
      "execution_count": 109,
      "outputs": [
        {
          "output_type": "stream",
          "text": [
            "Downloading data from https://storage.googleapis.com/tensorflow/keras-applications/vgg19/vgg19_weights_tf_dim_ordering_tf_kernels_notop.h5\n",
            "80142336/80134624 [==============================] - 1s 0us/step\n"
          ],
          "name": "stdout"
        }
      ]
    },
    {
      "cell_type": "code",
      "metadata": {
        "id": "SEVdhjIz5gTb"
      },
      "source": [
        "# don't train existing weights\n",
        "for layer in VGG19.layers:\n",
        "    layer.trainable = False"
      ],
      "execution_count": 110,
      "outputs": []
    },
    {
      "cell_type": "code",
      "metadata": {
        "id": "kqHgl33U5gTc"
      },
      "source": [
        "  # useful for getting number of output classes\n",
        "folders = glob('/content/drive/MyDrive/Cotton_Disease/train/*')"
      ],
      "execution_count": 111,
      "outputs": []
    },
    {
      "cell_type": "code",
      "metadata": {
        "id": "99bqs2F55gTc"
      },
      "source": [
        "# our layers - you can add more if you want\n",
        "x = Flatten()(VGG19.output)"
      ],
      "execution_count": 112,
      "outputs": []
    },
    {
      "cell_type": "code",
      "metadata": {
        "id": "F36D57IZ5gTc"
      },
      "source": [
        "prediction = Dense(len(folders), activation='softmax')(x)\n",
        "\n",
        "# create a model object\n",
        "model = Model(inputs=VGG19.input, outputs=prediction)"
      ],
      "execution_count": 113,
      "outputs": []
    },
    {
      "cell_type": "code",
      "metadata": {
        "colab": {
          "base_uri": "https://localhost:8080/"
        },
        "id": "5XcUwlJ45gTc",
        "outputId": "5742ddcf-7113-44c6-e16b-74541f111eb4"
      },
      "source": [
        "\n",
        "# view the structure of the model\n",
        "model.summary()\n"
      ],
      "execution_count": 114,
      "outputs": [
        {
          "output_type": "stream",
          "text": [
            "Model: \"model_3\"\n",
            "_________________________________________________________________\n",
            "Layer (type)                 Output Shape              Param #   \n",
            "=================================================================\n",
            "input_4 (InputLayer)         [(None, 224, 224, 3)]     0         \n",
            "_________________________________________________________________\n",
            "block1_conv1 (Conv2D)        (None, 224, 224, 64)      1792      \n",
            "_________________________________________________________________\n",
            "block1_conv2 (Conv2D)        (None, 224, 224, 64)      36928     \n",
            "_________________________________________________________________\n",
            "block1_pool (MaxPooling2D)   (None, 112, 112, 64)      0         \n",
            "_________________________________________________________________\n",
            "block2_conv1 (Conv2D)        (None, 112, 112, 128)     73856     \n",
            "_________________________________________________________________\n",
            "block2_conv2 (Conv2D)        (None, 112, 112, 128)     147584    \n",
            "_________________________________________________________________\n",
            "block2_pool (MaxPooling2D)   (None, 56, 56, 128)       0         \n",
            "_________________________________________________________________\n",
            "block3_conv1 (Conv2D)        (None, 56, 56, 256)       295168    \n",
            "_________________________________________________________________\n",
            "block3_conv2 (Conv2D)        (None, 56, 56, 256)       590080    \n",
            "_________________________________________________________________\n",
            "block3_conv3 (Conv2D)        (None, 56, 56, 256)       590080    \n",
            "_________________________________________________________________\n",
            "block3_conv4 (Conv2D)        (None, 56, 56, 256)       590080    \n",
            "_________________________________________________________________\n",
            "block3_pool (MaxPooling2D)   (None, 28, 28, 256)       0         \n",
            "_________________________________________________________________\n",
            "block4_conv1 (Conv2D)        (None, 28, 28, 512)       1180160   \n",
            "_________________________________________________________________\n",
            "block4_conv2 (Conv2D)        (None, 28, 28, 512)       2359808   \n",
            "_________________________________________________________________\n",
            "block4_conv3 (Conv2D)        (None, 28, 28, 512)       2359808   \n",
            "_________________________________________________________________\n",
            "block4_conv4 (Conv2D)        (None, 28, 28, 512)       2359808   \n",
            "_________________________________________________________________\n",
            "block4_pool (MaxPooling2D)   (None, 14, 14, 512)       0         \n",
            "_________________________________________________________________\n",
            "block5_conv1 (Conv2D)        (None, 14, 14, 512)       2359808   \n",
            "_________________________________________________________________\n",
            "block5_conv2 (Conv2D)        (None, 14, 14, 512)       2359808   \n",
            "_________________________________________________________________\n",
            "block5_conv3 (Conv2D)        (None, 14, 14, 512)       2359808   \n",
            "_________________________________________________________________\n",
            "block5_conv4 (Conv2D)        (None, 14, 14, 512)       2359808   \n",
            "_________________________________________________________________\n",
            "block5_pool (MaxPooling2D)   (None, 7, 7, 512)         0         \n",
            "_________________________________________________________________\n",
            "flatten_3 (Flatten)          (None, 25088)             0         \n",
            "_________________________________________________________________\n",
            "dense_3 (Dense)              (None, 4)                 100356    \n",
            "=================================================================\n",
            "Total params: 20,124,740\n",
            "Trainable params: 100,356\n",
            "Non-trainable params: 20,024,384\n",
            "_________________________________________________________________\n"
          ],
          "name": "stdout"
        }
      ]
    },
    {
      "cell_type": "code",
      "metadata": {
        "id": "kmEDQfT-5gTc"
      },
      "source": [
        "# tell the model what cost and optimization method to use\n",
        "model.compile(\n",
        "  loss='categorical_crossentropy',\n",
        "  optimizer='adam',\n",
        "  metrics=['accuracy']\n",
        ")\n"
      ],
      "execution_count": 115,
      "outputs": []
    },
    {
      "cell_type": "code",
      "metadata": {
        "id": "wKthd2sV5gTd"
      },
      "source": [
        "# Use the Image Data Generator to import the images from the dataset\n",
        "from tensorflow.keras.preprocessing.image import ImageDataGenerator\n",
        "\n",
        "train_datagen = ImageDataGenerator(rescale = 1./255,\n",
        "                                   shear_range = 0.2,\n",
        "                                   zoom_range = 0.2,\n",
        "                                   horizontal_flip = True)\n",
        "\n",
        "test_datagen = ImageDataGenerator(rescale = 1./255)"
      ],
      "execution_count": 116,
      "outputs": []
    },
    {
      "cell_type": "code",
      "metadata": {
        "colab": {
          "base_uri": "https://localhost:8080/"
        },
        "id": "U37_HC6m5gTd",
        "outputId": "b76d581e-ba91-4b84-dc54-422298104997"
      },
      "source": [
        "# Make sure you provide the same target size as initialied for the image size\n",
        "training_set = train_datagen.flow_from_directory('/content/drive/MyDrive/Cotton_Disease/train',\n",
        "                                                 target_size = (224, 224),\n",
        "                                                 batch_size = 32,\n",
        "                                                 class_mode = 'categorical')"
      ],
      "execution_count": 117,
      "outputs": [
        {
          "output_type": "stream",
          "text": [
            "Found 1951 images belonging to 4 classes.\n"
          ],
          "name": "stdout"
        }
      ]
    },
    {
      "cell_type": "code",
      "metadata": {
        "colab": {
          "base_uri": "https://localhost:8080/"
        },
        "id": "_R-wWxUq5gTd",
        "outputId": "c909927b-3063-466a-a18e-f2c7225f0b58"
      },
      "source": [
        "test_set = test_datagen.flow_from_directory('/content/drive/MyDrive/Cotton_Disease/test',\n",
        "                                            target_size = (224, 224),\n",
        "                                            batch_size = 32,\n",
        "                                            class_mode = 'categorical')"
      ],
      "execution_count": 118,
      "outputs": [
        {
          "output_type": "stream",
          "text": [
            "Found 106 images belonging to 4 classes.\n"
          ],
          "name": "stdout"
        }
      ]
    },
    {
      "cell_type": "code",
      "metadata": {
        "colab": {
          "base_uri": "https://localhost:8080/"
        },
        "id": "JgpQbMEy5gTd",
        "outputId": "2d852ae4-d4ae-4349-a05a-4c511d1cf85b"
      },
      "source": [
        "# fit the model\n",
        "# Run the cell. It will take some time to execute\n",
        "r = model.fit_generator(\n",
        "  training_set,\n",
        "  validation_data=test_set,\n",
        "  epochs=50,\n",
        "  steps_per_epoch=len(training_set),\n",
        "  validation_steps=len(test_set)\n",
        ")"
      ],
      "execution_count": 119,
      "outputs": [
        {
          "output_type": "stream",
          "text": [
            "/usr/local/lib/python3.7/dist-packages/tensorflow/python/keras/engine/training.py:1844: UserWarning: `Model.fit_generator` is deprecated and will be removed in a future version. Please use `Model.fit`, which supports generators.\n",
            "  warnings.warn('`Model.fit_generator` is deprecated and '\n"
          ],
          "name": "stderr"
        },
        {
          "output_type": "stream",
          "text": [
            "Epoch 1/50\n",
            "61/61 [==============================] - 35s 558ms/step - loss: 1.0288 - accuracy: 0.6142 - val_loss: 0.3091 - val_accuracy: 0.8679\n",
            "Epoch 2/50\n",
            "61/61 [==============================] - 33s 534ms/step - loss: 0.3141 - accuracy: 0.8884 - val_loss: 0.2128 - val_accuracy: 0.9434\n",
            "Epoch 3/50\n",
            "61/61 [==============================] - 32s 532ms/step - loss: 0.2371 - accuracy: 0.9076 - val_loss: 0.2532 - val_accuracy: 0.8962\n",
            "Epoch 4/50\n",
            "61/61 [==============================] - 33s 545ms/step - loss: 0.1582 - accuracy: 0.9484 - val_loss: 0.1715 - val_accuracy: 0.9245\n",
            "Epoch 5/50\n",
            "61/61 [==============================] - 33s 541ms/step - loss: 0.1693 - accuracy: 0.9364 - val_loss: 0.2075 - val_accuracy: 0.9057\n",
            "Epoch 6/50\n",
            "61/61 [==============================] - 33s 540ms/step - loss: 0.1429 - accuracy: 0.9484 - val_loss: 0.1106 - val_accuracy: 0.9811\n",
            "Epoch 7/50\n",
            "61/61 [==============================] - 33s 539ms/step - loss: 0.1435 - accuracy: 0.9498 - val_loss: 0.0882 - val_accuracy: 0.9811\n",
            "Epoch 8/50\n",
            "61/61 [==============================] - 33s 540ms/step - loss: 0.1085 - accuracy: 0.9582 - val_loss: 0.1720 - val_accuracy: 0.9245\n",
            "Epoch 9/50\n",
            "61/61 [==============================] - 33s 541ms/step - loss: 0.0794 - accuracy: 0.9798 - val_loss: 0.2427 - val_accuracy: 0.9151\n",
            "Epoch 10/50\n",
            "61/61 [==============================] - 33s 541ms/step - loss: 0.1444 - accuracy: 0.9428 - val_loss: 0.1540 - val_accuracy: 0.9245\n",
            "Epoch 11/50\n",
            "61/61 [==============================] - 33s 540ms/step - loss: 0.0830 - accuracy: 0.9717 - val_loss: 0.1232 - val_accuracy: 0.9245\n",
            "Epoch 12/50\n",
            "61/61 [==============================] - 33s 542ms/step - loss: 0.0749 - accuracy: 0.9736 - val_loss: 0.0702 - val_accuracy: 0.9717\n",
            "Epoch 13/50\n",
            "61/61 [==============================] - 33s 542ms/step - loss: 0.0670 - accuracy: 0.9810 - val_loss: 0.0961 - val_accuracy: 0.9528\n",
            "Epoch 14/50\n",
            "61/61 [==============================] - 33s 545ms/step - loss: 0.0752 - accuracy: 0.9747 - val_loss: 0.2031 - val_accuracy: 0.9151\n",
            "Epoch 15/50\n",
            "61/61 [==============================] - 33s 541ms/step - loss: 0.0718 - accuracy: 0.9750 - val_loss: 0.1222 - val_accuracy: 0.9434\n",
            "Epoch 16/50\n",
            "61/61 [==============================] - 33s 537ms/step - loss: 0.0434 - accuracy: 0.9873 - val_loss: 0.0649 - val_accuracy: 0.9717\n",
            "Epoch 17/50\n",
            "61/61 [==============================] - 33s 540ms/step - loss: 0.0412 - accuracy: 0.9893 - val_loss: 0.1497 - val_accuracy: 0.9340\n",
            "Epoch 18/50\n",
            "61/61 [==============================] - 33s 540ms/step - loss: 0.0607 - accuracy: 0.9710 - val_loss: 0.1001 - val_accuracy: 0.9528\n",
            "Epoch 19/50\n",
            "61/61 [==============================] - 33s 541ms/step - loss: 0.0523 - accuracy: 0.9845 - val_loss: 0.1108 - val_accuracy: 0.9434\n",
            "Epoch 20/50\n",
            "61/61 [==============================] - 33s 536ms/step - loss: 0.0346 - accuracy: 0.9916 - val_loss: 0.0805 - val_accuracy: 0.9623\n",
            "Epoch 21/50\n",
            "61/61 [==============================] - 33s 544ms/step - loss: 0.0443 - accuracy: 0.9882 - val_loss: 0.0986 - val_accuracy: 0.9717\n",
            "Epoch 22/50\n",
            "61/61 [==============================] - 33s 540ms/step - loss: 0.0351 - accuracy: 0.9937 - val_loss: 0.0783 - val_accuracy: 0.9717\n",
            "Epoch 23/50\n",
            "61/61 [==============================] - 33s 541ms/step - loss: 0.0372 - accuracy: 0.9889 - val_loss: 0.0857 - val_accuracy: 0.9623\n",
            "Epoch 24/50\n",
            "61/61 [==============================] - 33s 538ms/step - loss: 0.0355 - accuracy: 0.9924 - val_loss: 0.0578 - val_accuracy: 0.9811\n",
            "Epoch 25/50\n",
            "61/61 [==============================] - 33s 539ms/step - loss: 0.0221 - accuracy: 0.9974 - val_loss: 0.1110 - val_accuracy: 0.9434\n",
            "Epoch 26/50\n",
            "61/61 [==============================] - 33s 542ms/step - loss: 0.0266 - accuracy: 0.9948 - val_loss: 0.0719 - val_accuracy: 0.9528\n",
            "Epoch 27/50\n",
            "61/61 [==============================] - 33s 538ms/step - loss: 0.0367 - accuracy: 0.9886 - val_loss: 0.0634 - val_accuracy: 0.9717\n",
            "Epoch 28/50\n",
            "61/61 [==============================] - 33s 541ms/step - loss: 0.0312 - accuracy: 0.9908 - val_loss: 0.0718 - val_accuracy: 0.9717\n",
            "Epoch 29/50\n",
            "61/61 [==============================] - 33s 538ms/step - loss: 0.0332 - accuracy: 0.9890 - val_loss: 0.0756 - val_accuracy: 0.9717\n",
            "Epoch 30/50\n",
            "61/61 [==============================] - 33s 545ms/step - loss: 0.0346 - accuracy: 0.9903 - val_loss: 0.2168 - val_accuracy: 0.9057\n",
            "Epoch 31/50\n",
            "61/61 [==============================] - 33s 541ms/step - loss: 0.0478 - accuracy: 0.9843 - val_loss: 0.3304 - val_accuracy: 0.9245\n",
            "Epoch 32/50\n",
            "61/61 [==============================] - 33s 540ms/step - loss: 0.0501 - accuracy: 0.9798 - val_loss: 0.0970 - val_accuracy: 0.9528\n",
            "Epoch 33/50\n",
            "61/61 [==============================] - 33s 536ms/step - loss: 0.0406 - accuracy: 0.9877 - val_loss: 0.0868 - val_accuracy: 0.9623\n",
            "Epoch 34/50\n",
            "61/61 [==============================] - 33s 540ms/step - loss: 0.0227 - accuracy: 0.9947 - val_loss: 0.1264 - val_accuracy: 0.9623\n",
            "Epoch 35/50\n",
            "61/61 [==============================] - 33s 537ms/step - loss: 0.0274 - accuracy: 0.9921 - val_loss: 0.2436 - val_accuracy: 0.9057\n",
            "Epoch 36/50\n",
            "61/61 [==============================] - 33s 538ms/step - loss: 0.0176 - accuracy: 0.9977 - val_loss: 0.0790 - val_accuracy: 0.9623\n",
            "Epoch 37/50\n",
            "61/61 [==============================] - 33s 541ms/step - loss: 0.0500 - accuracy: 0.9816 - val_loss: 0.0801 - val_accuracy: 0.9528\n",
            "Epoch 38/50\n",
            "61/61 [==============================] - 33s 538ms/step - loss: 0.0287 - accuracy: 0.9892 - val_loss: 0.1028 - val_accuracy: 0.9623\n",
            "Epoch 39/50\n",
            "61/61 [==============================] - 33s 536ms/step - loss: 0.0175 - accuracy: 0.9962 - val_loss: 0.0630 - val_accuracy: 0.9623\n",
            "Epoch 40/50\n",
            "61/61 [==============================] - 33s 536ms/step - loss: 0.0202 - accuracy: 0.9952 - val_loss: 0.0731 - val_accuracy: 0.9717\n",
            "Epoch 41/50\n",
            "61/61 [==============================] - 33s 534ms/step - loss: 0.0156 - accuracy: 0.9968 - val_loss: 0.1694 - val_accuracy: 0.9434\n",
            "Epoch 42/50\n",
            "61/61 [==============================] - 33s 538ms/step - loss: 0.0116 - accuracy: 0.9977 - val_loss: 0.0549 - val_accuracy: 0.9623\n",
            "Epoch 43/50\n",
            "61/61 [==============================] - 33s 538ms/step - loss: 0.0153 - accuracy: 0.9985 - val_loss: 0.0873 - val_accuracy: 0.9623\n",
            "Epoch 44/50\n",
            "61/61 [==============================] - 33s 538ms/step - loss: 0.0116 - accuracy: 0.9986 - val_loss: 0.0671 - val_accuracy: 0.9623\n",
            "Epoch 45/50\n",
            "61/61 [==============================] - 33s 540ms/step - loss: 0.0155 - accuracy: 0.9974 - val_loss: 0.1359 - val_accuracy: 0.9528\n",
            "Epoch 46/50\n",
            "61/61 [==============================] - 33s 538ms/step - loss: 0.0149 - accuracy: 0.9971 - val_loss: 0.0992 - val_accuracy: 0.9623\n",
            "Epoch 47/50\n",
            "61/61 [==============================] - 33s 542ms/step - loss: 0.0184 - accuracy: 0.9938 - val_loss: 0.0735 - val_accuracy: 0.9717\n",
            "Epoch 48/50\n",
            "61/61 [==============================] - 33s 540ms/step - loss: 0.0242 - accuracy: 0.9953 - val_loss: 0.0775 - val_accuracy: 0.9623\n",
            "Epoch 49/50\n",
            "61/61 [==============================] - 33s 537ms/step - loss: 0.0084 - accuracy: 0.9991 - val_loss: 0.0686 - val_accuracy: 0.9623\n",
            "Epoch 50/50\n",
            "61/61 [==============================] - 33s 536ms/step - loss: 0.0459 - accuracy: 0.9827 - val_loss: 0.0438 - val_accuracy: 0.9906\n"
          ],
          "name": "stdout"
        }
      ]
    },
    {
      "cell_type": "code",
      "metadata": {
        "id": "fN_M2d1L5gTe"
      },
      "source": [
        ""
      ],
      "execution_count": 119,
      "outputs": []
    },
    {
      "cell_type": "code",
      "metadata": {
        "colab": {
          "base_uri": "https://localhost:8080/",
          "height": 530
        },
        "id": "hqGxbXj_5gTe",
        "outputId": "a1ae9d05-b573-4abe-cc97-5bfbd30722c5"
      },
      "source": [
        "# plot the loss\n",
        "import matplotlib.pyplot as plt\n",
        "plt.plot(r.history['loss'], label='train loss')\n",
        "plt.plot(r.history['val_loss'], label='val loss')\n",
        "plt.legend()\n",
        "plt.show()\n",
        "plt.savefig('LossVal_loss_cotton_VGG19')\n",
        "\n",
        "# plot the accuracy\n",
        "plt.plot(r.history['accuracy'], label='train acc')\n",
        "plt.plot(r.history['val_accuracy'], label='val acc')\n",
        "plt.legend()\n",
        "plt.show()\n",
        "plt.savefig('AccVal_acc_cotton_VGG19')"
      ],
      "execution_count": 120,
      "outputs": [
        {
          "output_type": "display_data",
          "data": {
            "image/png": "[encoded data removed]",
            "text/plain": [
              "<Figure size 432x288 with 1 Axes>"
            ]
          },
          "metadata": {
            "tags": [],
            "needs_background": "light"
          }
        },
        {
          "output_type": "display_data",
          "data": {
            "image/png": "[encoded data removed]",
            "text/plain": [
              "<Figure size 432x288 with 1 Axes>"
            ]
          },
          "metadata": {
            "tags": [],
            "needs_background": "light"
          }
        },
        {
          "output_type": "display_data",
          "data": {
            "text/plain": [
              "<Figure size 432x288 with 0 Axes>"
            ]
          },
          "metadata": {
            "tags": []
          }
        }
      ]
    },
    {
      "cell_type": "code",
      "metadata": {
        "id": "pCRcTuoU5gTe"
      },
      "source": [
        "# save it as a h5 file\n",
        "\n",
        "\n",
        "from tensorflow.keras.models import load_model\n",
        "\n",
        "model.save('model_cotton_VGG19.h5')"
      ],
      "execution_count": 121,
      "outputs": []
    },
    {
      "cell_type": "code",
      "metadata": {
        "id": "MTVOQEA85gTe"
      },
      "source": [
        ""
      ],
      "execution_count": 121,
      "outputs": []
    },
    {
      "cell_type": "code",
      "metadata": {
        "id": "Y9xgnC565gTe"
      },
      "source": [
        "\n",
        "y_pred = model.predict(test_set)\n"
      ],
      "execution_count": 122,
      "outputs": []
    },
    {
      "cell_type": "code",
      "metadata": {
        "colab": {
          "base_uri": "https://localhost:8080/"
        },
        "id": "Nj0NE94c5gTf",
        "outputId": "8a9a3c9b-9092-4909-ff51-f3db1b11fa7a"
      },
      "source": [
        "y_pred"
      ],
      "execution_count": 123,
      "outputs": [
        {
          "output_type": "execute_result",
          "data": {
            "text/plain": [
              "array([[3.20455051e-11, 1.04111173e-07, 5.41268376e-12, 9.99999881e-01],\n",
              "       [5.79860899e-12, 3.02371632e-06, 3.41415131e-07, 9.99996662e-01],\n",
              "       [2.17417218e-09, 9.99991655e-01, 1.54646504e-11, 8.33464219e-06],\n",
              "       [9.99999285e-01, 6.49141839e-07, 1.20016665e-07, 5.80734394e-09],\n",
              "       [9.99906659e-01, 9.32898402e-05, 1.23745727e-11, 1.98317940e-09],\n",
              "       [7.55422298e-06, 1.91514111e-08, 9.99992251e-01, 6.72553853e-08],\n",
              "       [9.99903440e-01, 2.04394807e-10, 9.60720427e-05, 4.34093607e-07],\n",
              "       [5.93654420e-07, 9.86511350e-01, 3.84458282e-04, 1.31036090e-02],\n",
              "       [1.00000000e+00, 1.99098946e-10, 1.17647642e-10, 4.50704647e-11],\n",
              "       [1.00463538e-07, 9.99848366e-01, 2.40094478e-09, 1.51438944e-04],\n",
              "       [1.58996158e-06, 9.99830484e-01, 3.40101508e-07, 1.67597769e-04],\n",
              "       [9.99998331e-01, 2.99437460e-07, 6.25283576e-07, 7.05028640e-07],\n",
              "       [1.06233067e-09, 9.99959111e-01, 1.68010700e-07, 4.07128136e-05],\n",
              "       [3.08881409e-09, 1.73941274e-07, 9.99999404e-01, 4.33711108e-07],\n",
              "       [9.99897957e-01, 1.57022029e-09, 1.00259349e-04, 1.76009951e-06],\n",
              "       [9.98811245e-01, 7.92393621e-07, 1.18796621e-03, 2.16913119e-08],\n",
              "       [9.99550402e-01, 1.49220503e-09, 1.60369353e-04, 2.89202173e-04],\n",
              "       [9.22405481e-01, 5.32571634e-04, 7.65561908e-02, 5.05758799e-04],\n",
              "       [2.15051510e-09, 1.22135780e-05, 4.76768758e-09, 9.99987841e-01],\n",
              "       [1.98440787e-07, 1.35182958e-07, 9.99999404e-01, 2.55553772e-07],\n",
              "       [2.87500135e-09, 3.36385638e-05, 3.14367754e-09, 9.99966383e-01],\n",
              "       [1.68581468e-10, 5.51254430e-04, 6.60846069e-07, 9.99448001e-01],\n",
              "       [9.99449313e-01, 1.40204764e-04, 3.85865784e-11, 4.10445296e-04],\n",
              "       [3.49067524e-02, 3.81026366e-09, 9.65083718e-01, 9.51334096e-06],\n",
              "       [2.30084765e-06, 9.99986768e-01, 1.23441586e-08, 1.09225866e-05],\n",
              "       [1.84400196e-05, 2.21676928e-05, 9.99927044e-01, 3.22478663e-05],\n",
              "       [2.78573997e-10, 9.99948144e-01, 7.95611299e-10, 5.18827073e-05],\n",
              "       [9.99998808e-01, 1.21454184e-06, 1.59976019e-10, 3.34290928e-11],\n",
              "       [2.38287747e-01, 7.27360544e-04, 7.60951281e-01, 3.36812300e-05],\n",
              "       [8.52213446e-08, 3.90360083e-06, 2.44630587e-06, 9.99993563e-01],\n",
              "       [5.34198408e-10, 9.99939203e-01, 3.29322347e-10, 6.08024384e-05],\n",
              "       [2.70984083e-06, 8.40703840e-04, 3.26043111e-03, 9.95896220e-01],\n",
              "       [1.24915346e-06, 8.85780036e-01, 3.65134589e-10, 1.14218719e-01],\n",
              "       [1.95190350e-10, 3.17481135e-05, 4.32648960e-07, 9.99967813e-01],\n",
              "       [1.61612315e-05, 2.98030282e-05, 9.99910116e-01, 4.38232855e-05],\n",
              "       [1.00000000e+00, 1.19358288e-12, 9.42335238e-11, 6.49855115e-13],\n",
              "       [2.47801381e-06, 6.42563224e-01, 6.65323705e-06, 3.57427597e-01],\n",
              "       [9.13099925e-08, 2.12454586e-03, 7.00609633e-08, 9.97875214e-01],\n",
              "       [9.99998093e-01, 3.26184718e-10, 1.92647508e-06, 2.13622053e-09],\n",
              "       [2.47060106e-09, 9.74987924e-01, 1.02667641e-07, 2.50120051e-02],\n",
              "       [4.90296737e-09, 7.65953004e-01, 6.31696011e-08, 2.34046906e-01],\n",
              "       [4.83008989e-07, 5.15151507e-12, 9.99999523e-01, 1.03846015e-10],\n",
              "       [9.17059761e-09, 9.58420038e-01, 6.49543139e-08, 4.15799282e-02],\n",
              "       [2.46059039e-06, 9.99988914e-01, 8.56264887e-06, 6.21025176e-10],\n",
              "       [3.01415726e-10, 1.85772060e-05, 3.17609583e-09, 9.99981403e-01],\n",
              "       [2.69974230e-08, 9.99996305e-01, 4.97750495e-12, 3.71172837e-06],\n",
              "       [2.43956251e-08, 1.34331789e-16, 1.00000000e+00, 8.22405464e-15],\n",
              "       [9.95347436e-05, 4.58976999e-03, 8.77803541e-06, 9.95301962e-01],\n",
              "       [1.01049198e-04, 2.58119643e-01, 1.10657901e-07, 7.41779208e-01],\n",
              "       [1.01708852e-09, 9.97321904e-01, 1.44996079e-07, 2.67795753e-03],\n",
              "       [6.91927107e-06, 3.86776006e-18, 9.99993086e-01, 4.33758932e-14],\n",
              "       [5.00239083e-04, 2.57928097e-12, 9.99499798e-01, 9.77847803e-10],\n",
              "       [4.26242722e-11, 5.49604144e-17, 1.00000000e+00, 1.77207509e-15],\n",
              "       [5.01060207e-08, 7.07219646e-04, 3.53462150e-04, 9.98939335e-01],\n",
              "       [2.30569031e-09, 9.94015813e-01, 8.24075741e-09, 5.98409772e-03],\n",
              "       [2.07771078e-10, 1.03826850e-10, 1.00000000e+00, 5.08489251e-08],\n",
              "       [3.40254847e-09, 1.00000000e+00, 8.05250224e-12, 1.55078688e-08],\n",
              "       [2.15877750e-12, 2.14189026e-06, 3.65623115e-10, 9.99997854e-01],\n",
              "       [9.99999881e-01, 1.35285177e-07, 2.25727301e-11, 1.43441277e-08],\n",
              "       [6.25894392e-10, 1.64245270e-04, 5.45776313e-10, 9.99835730e-01],\n",
              "       [1.61983175e-04, 2.42687474e-05, 9.99789894e-01, 2.38481971e-05],\n",
              "       [9.99756992e-01, 6.37577457e-08, 2.42918570e-04, 1.10707465e-09],\n",
              "       [9.99998808e-01, 6.26197689e-08, 4.40500258e-08, 9.82050437e-07],\n",
              "       [3.95047039e-01, 5.62955737e-01, 5.11666352e-04, 4.14855629e-02],\n",
              "       [7.57030480e-11, 2.21142363e-06, 1.23171037e-06, 9.99996543e-01],\n",
              "       [9.99969959e-01, 2.92746990e-05, 6.77140747e-07, 2.55853845e-08],\n",
              "       [1.00000000e+00, 1.59792637e-10, 1.11911114e-09, 1.00900657e-08],\n",
              "       [1.93832311e-05, 1.32726490e-12, 9.99980569e-01, 4.50991289e-09],\n",
              "       [1.00000000e+00, 5.41237194e-13, 2.90070815e-11, 3.33010024e-16],\n",
              "       [4.49487949e-08, 3.48685489e-08, 9.99999881e-01, 2.17916494e-08],\n",
              "       [4.73962282e-05, 1.98795178e-07, 9.98451829e-01, 1.50053774e-03],\n",
              "       [3.11330579e-11, 2.07869171e-08, 8.77806129e-13, 1.00000000e+00],\n",
              "       [5.92556901e-08, 9.99949574e-01, 5.80027450e-11, 5.04555137e-05],\n",
              "       [1.13197515e-04, 6.52962553e-05, 9.65173662e-01, 3.46479081e-02],\n",
              "       [1.72919645e-05, 2.94167357e-10, 9.99981403e-01, 1.26604311e-06],\n",
              "       [2.94117649e-06, 9.99360383e-01, 8.95108813e-12, 6.36608398e-04],\n",
              "       [3.52114853e-07, 9.98876989e-01, 8.75617179e-09, 1.12258724e-03],\n",
              "       [2.12127748e-06, 5.82604853e-10, 9.99997854e-01, 5.16502743e-11],\n",
              "       [1.61612315e-05, 2.98030282e-05, 9.99910116e-01, 4.38232855e-05],\n",
              "       [7.66155381e-07, 6.57883644e-01, 2.07813468e-06, 3.42113495e-01],\n",
              "       [1.20872983e-06, 9.99980807e-01, 5.39123266e-06, 1.26161485e-05],\n",
              "       [5.12274710e-07, 9.96566653e-01, 5.92158756e-07, 3.43230367e-03],\n",
              "       [8.25142550e-08, 7.98371562e-04, 1.91235540e-06, 9.99199688e-01],\n",
              "       [1.02077768e-08, 2.26191847e-08, 2.55763188e-10, 1.00000000e+00],\n",
              "       [8.54114646e-09, 5.84270720e-06, 7.06662922e-06, 9.99987125e-01],\n",
              "       [1.19782328e-07, 9.97570932e-01, 2.05370247e-06, 2.42686714e-03],\n",
              "       [1.00000000e+00, 7.99823152e-10, 1.85357223e-08, 1.16921628e-08],\n",
              "       [2.09917795e-11, 2.56677249e-05, 8.76741666e-08, 9.99974251e-01],\n",
              "       [1.71803877e-05, 2.37678061e-03, 9.97166455e-01, 4.39643482e-04],\n",
              "       [1.67240660e-06, 7.90650025e-03, 2.73397833e-04, 9.91818428e-01],\n",
              "       [2.17236433e-08, 3.67589004e-04, 3.32230563e-08, 9.99632359e-01],\n",
              "       [3.78989080e-06, 2.34589015e-15, 9.99996185e-01, 1.11004989e-14],\n",
              "       [2.13383422e-09, 8.60397605e-17, 1.00000000e+00, 3.59416354e-13],\n",
              "       [9.99999404e-01, 6.25757821e-07, 3.04362469e-09, 1.29783673e-09],\n",
              "       [6.39027331e-10, 2.42858600e-09, 2.14570370e-08, 1.00000000e+00],\n",
              "       [7.63596892e-01, 1.07816514e-03, 2.35323176e-01, 1.84786109e-06],\n",
              "       [1.60830336e-06, 1.49992824e-01, 1.40704969e-07, 8.50005448e-01],\n",
              "       [1.65880476e-06, 9.58815753e-01, 4.19941273e-08, 4.11824472e-02],\n",
              "       [1.90669276e-08, 5.95324927e-08, 7.85405405e-14, 9.99999881e-01],\n",
              "       [1.58183710e-07, 9.60605751e-15, 9.99999881e-01, 1.32144794e-12],\n",
              "       [1.00000000e+00, 2.03821768e-12, 8.05988102e-15, 1.86145960e-11],\n",
              "       [1.25288396e-04, 7.66837971e-09, 9.99874711e-01, 2.40769427e-09],\n",
              "       [2.03953869e-06, 1.56771137e-07, 9.99974370e-01, 2.34678846e-05],\n",
              "       [9.99852657e-01, 5.47123846e-10, 1.47289844e-04, 4.90113505e-09],\n",
              "       [3.28063379e-06, 7.19543815e-01, 7.17063993e-03, 2.73282290e-01],\n",
              "       [8.41273662e-10, 5.02701880e-07, 6.96570623e-07, 9.99998808e-01]],\n",
              "      dtype=float32)"
            ]
          },
          "metadata": {
            "tags": []
          },
          "execution_count": 123
        }
      ]
    },
    {
      "cell_type": "code",
      "metadata": {
        "id": "jYoZhAz55gTf"
      },
      "source": [
        "import numpy as np\n",
        "y_pred = np.argmax(y_pred, axis=1)"
      ],
      "execution_count": 124,
      "outputs": []
    },
    {
      "cell_type": "code",
      "metadata": {
        "colab": {
          "base_uri": "https://localhost:8080/"
        },
        "id": "NV7EKTHi5gTf",
        "outputId": "a3f5e2d9-1ddb-41c9-927c-ed99f70f4442"
      },
      "source": [
        "y_pred"
      ],
      "execution_count": 125,
      "outputs": [
        {
          "output_type": "execute_result",
          "data": {
            "text/plain": [
              "array([3, 3, 1, 0, 0, 2, 0, 1, 0, 1, 1, 0, 1, 2, 0, 0, 0, 0, 3, 2, 3, 3,\n",
              "       0, 2, 1, 2, 1, 0, 2, 3, 1, 3, 1, 3, 2, 0, 1, 3, 0, 1, 1, 2, 1, 1,\n",
              "       3, 1, 2, 3, 3, 1, 2, 2, 2, 3, 1, 2, 1, 3, 0, 3, 2, 0, 0, 1, 3, 0,\n",
              "       0, 2, 0, 2, 2, 3, 1, 2, 2, 1, 1, 2, 2, 1, 1, 1, 3, 3, 3, 1, 0, 3,\n",
              "       2, 3, 3, 2, 2, 0, 3, 0, 3, 1, 3, 2, 0, 2, 2, 0, 1, 3])"
            ]
          },
          "metadata": {
            "tags": []
          },
          "execution_count": 125
        }
      ]
    },
    {
      "cell_type": "code",
      "metadata": {
        "id": "_QRqoT8P5gTf"
      },
      "source": [
        ""
      ],
      "execution_count": 125,
      "outputs": []
    },
    {
      "cell_type": "code",
      "metadata": {
        "id": "mUg_JML95gTf"
      },
      "source": [
        "from tensorflow.keras.models import load_model\n",
        "from tensorflow.keras.preprocessing import image"
      ],
      "execution_count": 126,
      "outputs": []
    },
    {
      "cell_type": "code",
      "metadata": {
        "id": "DGXQXhdb5gTf"
      },
      "source": [
        "model=load_model('model_cotton_VGG19.h5')"
      ],
      "execution_count": 127,
      "outputs": []
    },
    {
      "cell_type": "code",
      "metadata": {
        "id": "tnpHLvvR5gTg"
      },
      "source": [
        "img=image.load_img('/content/drive/MyDrive/Cotton_Disease/test/diseased cotton leaf/dis_leaf (173)_iaip.jpg',target_size=(224,224))"
      ],
      "execution_count": 128,
      "outputs": []
    },
    {
      "cell_type": "code",
      "metadata": {
        "colab": {
          "base_uri": "https://localhost:8080/",
          "height": 241
        },
        "id": "qmS4YTq2IwiG",
        "outputId": "54790ed9-e13d-4da8-f87a-710e717bfb3c"
      },
      "source": [
        "img"
      ],
      "execution_count": 129,
      "outputs": [
        {
          "output_type": "execute_result",
          "data": {
            "image/png": "[encoded data removed]",
            "text/plain": [
              "<PIL.Image.Image image mode=RGB size=224x224 at 0x7F1F4815FF90>"
            ]
          },
          "metadata": {
            "tags": []
          },
          "execution_count": 129
        }
      ]
    },
    {
      "cell_type": "code",
      "metadata": {
        "colab": {
          "base_uri": "https://localhost:8080/"
        },
        "id": "tpSV_I6i5gTg",
        "outputId": "e7257516-ddf9-4aff-ab8c-a5f0ce48ca69"
      },
      "source": [
        "x=image.img_to_array(img)\n",
        "x"
      ],
      "execution_count": 130,
      "outputs": [
        {
          "output_type": "execute_result",
          "data": {
            "text/plain": [
              "array([[[223., 235., 133.],\n",
              "        [229., 241., 139.],\n",
              "        [225., 237., 135.],\n",
              "        ...,\n",
              "        [ 53.,  51.,  36.],\n",
              "        [ 62.,  54.,  35.],\n",
              "        [ 61.,  53.,  34.]],\n",
              "\n",
              "       [[219., 231., 129.],\n",
              "        [220., 232., 130.],\n",
              "        [223., 235., 133.],\n",
              "        ...,\n",
              "        [ 51.,  49.,  34.],\n",
              "        [ 60.,  52.,  33.],\n",
              "        [ 63.,  55.,  36.]],\n",
              "\n",
              "       [[223., 235., 133.],\n",
              "        [220., 232., 130.],\n",
              "        [228., 240., 138.],\n",
              "        ...,\n",
              "        [ 49.,  47.,  32.],\n",
              "        [ 66.,  58.,  39.],\n",
              "        [ 71.,  63.,  44.]],\n",
              "\n",
              "       ...,\n",
              "\n",
              "       [[ 56.,  50.,  36.],\n",
              "        [ 56.,  50.,  36.],\n",
              "        [ 56.,  50.,  36.],\n",
              "        ...,\n",
              "        [105.,  89.,  73.],\n",
              "        [ 87.,  75.,  61.],\n",
              "        [ 77.,  65.,  51.]],\n",
              "\n",
              "       [[ 54.,  51.,  32.],\n",
              "        [ 58.,  53.,  33.],\n",
              "        [ 57.,  49.,  28.],\n",
              "        ...,\n",
              "        [128., 104.,  76.],\n",
              "        [100.,  85.,  64.],\n",
              "        [ 78.,  63.,  42.]],\n",
              "\n",
              "       [[ 58.,  55.,  36.],\n",
              "        [ 62.,  57.,  37.],\n",
              "        [ 61.,  53.,  32.],\n",
              "        ...,\n",
              "        [126., 102.,  74.],\n",
              "        [107.,  92.,  71.],\n",
              "        [ 89.,  74.,  53.]]], dtype=float32)"
            ]
          },
          "metadata": {
            "tags": []
          },
          "execution_count": 130
        }
      ]
    },
    {
      "cell_type": "code",
      "metadata": {
        "colab": {
          "base_uri": "https://localhost:8080/"
        },
        "id": "DbnEe-v45gTg",
        "outputId": "87c7b168-3de5-4e5f-da8c-27dc7adda877"
      },
      "source": [
        "x.shape"
      ],
      "execution_count": 131,
      "outputs": [
        {
          "output_type": "execute_result",
          "data": {
            "text/plain": [
              "(224, 224, 3)"
            ]
          },
          "metadata": {
            "tags": []
          },
          "execution_count": 131
        }
      ]
    },
    {
      "cell_type": "code",
      "metadata": {
        "id": "9bsL5N5RKoUu"
      },
      "source": [
        "test_image = image.img_to_array(x)\n",
        "test_image = test_image/255\n",
        "test_image = np.expand_dims(test_image, axis = 0)\n",
        "result = model.predict(test_image)"
      ],
      "execution_count": 132,
      "outputs": []
    },
    {
      "cell_type": "code",
      "metadata": {
        "colab": {
          "base_uri": "https://localhost:8080/"
        },
        "id": "bg18UMGPLzsQ",
        "outputId": "8eaa92fa-40fe-473c-a44e-8f567988aa53"
      },
      "source": [
        "result"
      ],
      "execution_count": 133,
      "outputs": [
        {
          "output_type": "execute_result",
          "data": {
            "text/plain": [
              "array([[9.9990344e-01, 2.0439324e-10, 9.6069656e-05, 4.3407911e-07]],\n",
              "      dtype=float32)"
            ]
          },
          "metadata": {
            "tags": []
          },
          "execution_count": 133
        }
      ]
    },
    {
      "cell_type": "code",
      "metadata": {
        "id": "VXHGCypPMNY6"
      },
      "source": [
        ""
      ],
      "execution_count": 133,
      "outputs": []
    },
    {
      "cell_type": "code",
      "metadata": {
        "colab": {
          "base_uri": "https://localhost:8080/"
        },
        "id": "oTzT4uU35gTg",
        "outputId": "bbc44e2e-5aa6-47fa-be07-69ba009e529f"
      },
      "source": [
        "model.predict(test_image)"
      ],
      "execution_count": 134,
      "outputs": [
        {
          "output_type": "execute_result",
          "data": {
            "text/plain": [
              "array([[9.9990344e-01, 2.0439324e-10, 9.6069656e-05, 4.3407911e-07]],\n",
              "      dtype=float32)"
            ]
          },
          "metadata": {
            "tags": []
          },
          "execution_count": 134
        }
      ]
    },
    {
      "cell_type": "code",
      "metadata": {
        "id": "uw4dStir5gTg"
      },
      "source": [
        "a=np.argmax(model.predict(test_image), axis=1)"
      ],
      "execution_count": 135,
      "outputs": []
    },
    {
      "cell_type": "code",
      "metadata": {
        "colab": {
          "base_uri": "https://localhost:8080/"
        },
        "id": "mOqzYlYnM3VI",
        "outputId": "c6c5e919-0fd6-42e8-ab3c-afdf35caf3cb"
      },
      "source": [
        "a"
      ],
      "execution_count": 136,
      "outputs": [
        {
          "output_type": "execute_result",
          "data": {
            "text/plain": [
              "array([0])"
            ]
          },
          "metadata": {
            "tags": []
          },
          "execution_count": 136
        }
      ]
    },
    {
      "cell_type": "code",
      "metadata": {
        "colab": {
          "base_uri": "https://localhost:8080/"
        },
        "id": "sVeDC9hp5gTh",
        "outputId": "ec347495-ae01-49de-c2e7-df441bc7e7e6"
      },
      "source": [
        "if a == 0:\n",
        "    print(\"Diseased cotton leaf\")\n",
        "elif a == 1:\n",
        "  print(\"Diseased cotton plant\")\n",
        "elif a == 2:\n",
        "  print(\"Fresh cotton leaf\")\n",
        "else:\n",
        "  print(\"Fresh cotton plant\")"
      ],
      "execution_count": 137,
      "outputs": [
        {
          "output_type": "stream",
          "text": [
            "Diseased cotton leaf\n"
          ],
          "name": "stdout"
        }
      ]
    },
    {
      "cell_type": "code",
      "metadata": {
        "id": "UdNBsqXoNGEG"
      },
      "source": [
        ""
      ],
      "execution_count": null,
      "outputs": []
    }
  ]
}