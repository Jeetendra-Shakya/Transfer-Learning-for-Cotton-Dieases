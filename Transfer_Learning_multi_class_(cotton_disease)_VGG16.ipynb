{
  "nbformat": 4,
  "nbformat_minor": 0,
  "metadata": {
    "kernelspec": {
      "display_name": "Python 3",
      "language": "python",
      "name": "python3"
    },
    "language_info": {
      "codemirror_mode": {
        "name": "ipython",
        "version": 3
      },
      "file_extension": ".py",
      "mimetype": "text/x-python",
      "name": "python",
      "nbconvert_exporter": "python",
      "pygments_lexer": "ipython3",
      "version": "3.7.7"
    },
    "colab": {
      "name": "Transfer Learning multi class (cotton disease) VGG16.ipynb",
      "provenance": [],
      "collapsed_sections": [],
      "machine_shape": "hm"
    },
    "accelerator": "GPU"
  },
  "cells": [
    {
      "cell_type": "markdown",
      "metadata": {
        "id": "VLimBEVS5gTT"
      },
      "source": [
        "## Transfer Learning VGG16 using Keras"
      ]
    },
    {
      "cell_type": "code",
      "metadata": {
        "colab": {
          "base_uri": "https://localhost:8080/"
        },
        "id": "XJmb2YduxvgO",
        "outputId": "8385da8d-9acb-4864-d970-b029e428f309"
      },
      "source": [
        "# This model was created using google colab:\n",
        "# To check your GPU\n",
        "gpu_info = !nvidia-smi\n",
        "gpu_info = '\\n'.join(gpu_info)\n",
        "if gpu_info.find('failed') >= 0:\n",
        "  print('Select the Runtime > \"Change runtime type\" menu to enable a GPU accelerator, ')\n",
        "  print('and then re-execute this cell.')\n",
        "else:\n",
        "  print(gpu_info)"
      ],
      "execution_count": 2,
      "outputs": [
        {
          "output_type": "stream",
          "text": [
            "Wed Apr 28 12:10:09 2021       \n",
            "+-----------------------------------------------------------------------------+\n",
            "| NVIDIA-SMI 465.19.01    Driver Version: 460.32.03    CUDA Version: 11.2     |\n",
            "|-------------------------------+----------------------+----------------------+\n",
            "| GPU  Name        Persistence-M| Bus-Id        Disp.A | Volatile Uncorr. ECC |\n",
            "| Fan  Temp  Perf  Pwr:Usage/Cap|         Memory-Usage | GPU-Util  Compute M. |\n",
            "|                               |                      |               MIG M. |\n",
            "|===============================+======================+======================|\n",
            "|   0  Tesla P100-PCIE...  Off  | 00000000:00:04.0 Off |                    0 |\n",
            "| N/A   33C    P0    28W / 250W |      0MiB / 16280MiB |      0%      Default |\n",
            "|                               |                      |                  N/A |\n",
            "+-------------------------------+----------------------+----------------------+\n",
            "                                                                               \n",
            "+-----------------------------------------------------------------------------+\n",
            "| Processes:                                                                  |\n",
            "|  GPU   GI   CI        PID   Type   Process name                  GPU Memory |\n",
            "|        ID   ID                                                   Usage      |\n",
            "|=============================================================================|\n",
            "|  No running processes found                                                 |\n",
            "+-----------------------------------------------------------------------------+\n"
          ],
          "name": "stdout"
        }
      ]
    },
    {
      "cell_type": "markdown",
      "metadata": {
        "id": "JwPtW0pr5gTY"
      },
      "source": [
        "Please download the dataset from the below url"
      ]
    },
    {
      "cell_type": "code",
      "metadata": {
        "colab": {
          "base_uri": "https://localhost:8080/"
        },
        "id": "RjX6bu9t5gTZ",
        "outputId": "9a0a3565-57de-40ea-bdc3-22d203f5c950"
      },
      "source": [
        "# Tensorflow GPU\n",
        "import tensorflow as tf \n",
        "\n",
        "if tf.test.gpu_device_name(): \n",
        "    \n",
        "\n",
        "    print('Default GPU Device:{}'.format(tf.test.gpu_device_name()))\n",
        "\n",
        "else:\n",
        "\n",
        "    print(\"Please install GPU version of TF\")"
      ],
      "execution_count": 3,
      "outputs": [
        {
          "output_type": "stream",
          "text": [
            "Default GPU Device:/device:GPU:0\n"
          ],
          "name": "stdout"
        }
      ]
    },
    {
      "cell_type": "code",
      "metadata": {
        "colab": {
          "base_uri": "https://localhost:8080/"
        },
        "id": "t5G1pYTXx2YL",
        "outputId": "d51e4a91-2203-44fc-faf6-c8c4ff68ef75"
      },
      "source": [
        "# Mount google drive\n",
        "from google.colab import drive\n",
        "drive.mount('/content/drive/')"
      ],
      "execution_count": 4,
      "outputs": [
        {
          "output_type": "stream",
          "text": [
            "Drive already mounted at /content/drive/; to attempt to forcibly remount, call drive.mount(\"/content/drive/\", force_remount=True).\n"
          ],
          "name": "stdout"
        }
      ]
    },
    {
      "cell_type": "code",
      "metadata": {
        "id": "f22Sb6G6JzVa"
      },
      "source": [
        "# Unzip the file\n",
        "#!unzip /content/drive/MyDrive/Datasets.zip"
      ],
      "execution_count": 5,
      "outputs": []
    },
    {
      "cell_type": "code",
      "metadata": {
        "colab": {
          "base_uri": "https://localhost:8080/",
          "height": 35
        },
        "id": "8YHFbgFw5gTa",
        "outputId": "8c1c1448-4927-42d7-8912-5b2ee7d4d695"
      },
      "source": [
        "tf.test.gpu_device_name()"
      ],
      "execution_count": 6,
      "outputs": [
        {
          "output_type": "execute_result",
          "data": {
            "application/vnd.google.colaboratory.intrinsic+json": {
              "type": "string"
            },
            "text/plain": [
              "'/device:GPU:0'"
            ]
          },
          "metadata": {
            "tags": []
          },
          "execution_count": 6
        }
      ]
    },
    {
      "cell_type": "code",
      "metadata": {
        "id": "oIoUDmVV5gTa"
      },
      "source": [
        "# import the libraries as shown below\n",
        "\n",
        "from tensorflow.keras.layers import Input, Lambda, Dense, Flatten\n",
        "from tensorflow.keras.models import Model\n",
        "from tensorflow.keras.applications.vgg16 import VGG16\n",
        "from tensorflow.keras.applications.vgg16 import preprocess_input\n",
        "from tensorflow.keras.preprocessing import image\n",
        "from tensorflow.keras.preprocessing.image import ImageDataGenerator,load_img\n",
        "from tensorflow.keras.models import Sequential\n",
        "import numpy as np\n",
        "from glob import glob\n"
      ],
      "execution_count": 76,
      "outputs": []
    },
    {
      "cell_type": "code",
      "metadata": {
        "id": "pFFJLhJ35gTb"
      },
      "source": [
        "# re-size all the images to this\n",
        "IMAGE_SIZE = [224, 224]\n",
        "\n",
        "train_path = '/content/drive/MyDrive/Cotton_Disease/train'\n",
        "valid_path = '/content/drive/MyDrive/Cotton_Disease/test'\n"
      ],
      "execution_count": 77,
      "outputs": []
    },
    {
      "cell_type": "code",
      "metadata": {
        "colab": {
          "base_uri": "https://localhost:8080/"
        },
        "id": "kqm09FEr5gTb",
        "outputId": "9902ac2c-6ee7-43c8-c72f-474ef28b3b38"
      },
      "source": [
        "# Import the Vgg 19 library as shown below and add preprocessing layer to the front of VGG\n",
        "# Here we will be using imagenet weights\n",
        "\n",
        "VGG16 = VGG16(input_shape=IMAGE_SIZE + [3], weights='imagenet', include_top=False)\n",
        "\n",
        "\n"
      ],
      "execution_count": 78,
      "outputs": [
        {
          "output_type": "stream",
          "text": [
            "Downloading data from https://storage.googleapis.com/tensorflow/keras-applications/vgg16/vgg16_weights_tf_dim_ordering_tf_kernels_notop.h5\n",
            "58892288/58889256 [==============================] - 1s 0us/step\n"
          ],
          "name": "stdout"
        }
      ]
    },
    {
      "cell_type": "code",
      "metadata": {
        "id": "SEVdhjIz5gTb"
      },
      "source": [
        "# don't train existing weights\n",
        "for layer in VGG16.layers:\n",
        "    layer.trainable = False"
      ],
      "execution_count": 79,
      "outputs": []
    },
    {
      "cell_type": "code",
      "metadata": {
        "id": "kqHgl33U5gTc"
      },
      "source": [
        "  # useful for getting number of output classes\n",
        "folders = glob('/content/drive/MyDrive/Cotton_Disease/train/*')"
      ],
      "execution_count": 80,
      "outputs": []
    },
    {
      "cell_type": "code",
      "metadata": {
        "id": "99bqs2F55gTc"
      },
      "source": [
        "# our layers - you can add more if you want\n",
        "x = Flatten()(VGG16.output)"
      ],
      "execution_count": 81,
      "outputs": []
    },
    {
      "cell_type": "code",
      "metadata": {
        "id": "F36D57IZ5gTc"
      },
      "source": [
        "prediction = Dense(len(folders), activation='softmax')(x)\n",
        "\n",
        "# create a model object\n",
        "model = Model(inputs=VGG16.input, outputs=prediction)"
      ],
      "execution_count": 82,
      "outputs": []
    },
    {
      "cell_type": "code",
      "metadata": {
        "colab": {
          "base_uri": "https://localhost:8080/"
        },
        "id": "5XcUwlJ45gTc",
        "outputId": "60460ace-f779-4e94-8336-74f53495e981"
      },
      "source": [
        "\n",
        "# view the structure of the model\n",
        "model.summary()\n"
      ],
      "execution_count": 83,
      "outputs": [
        {
          "output_type": "stream",
          "text": [
            "Model: \"model_2\"\n",
            "_________________________________________________________________\n",
            "Layer (type)                 Output Shape              Param #   \n",
            "=================================================================\n",
            "input_3 (InputLayer)         [(None, 224, 224, 3)]     0         \n",
            "_________________________________________________________________\n",
            "block1_conv1 (Conv2D)        (None, 224, 224, 64)      1792      \n",
            "_________________________________________________________________\n",
            "block1_conv2 (Conv2D)        (None, 224, 224, 64)      36928     \n",
            "_________________________________________________________________\n",
            "block1_pool (MaxPooling2D)   (None, 112, 112, 64)      0         \n",
            "_________________________________________________________________\n",
            "block2_conv1 (Conv2D)        (None, 112, 112, 128)     73856     \n",
            "_________________________________________________________________\n",
            "block2_conv2 (Conv2D)        (None, 112, 112, 128)     147584    \n",
            "_________________________________________________________________\n",
            "block2_pool (MaxPooling2D)   (None, 56, 56, 128)       0         \n",
            "_________________________________________________________________\n",
            "block3_conv1 (Conv2D)        (None, 56, 56, 256)       295168    \n",
            "_________________________________________________________________\n",
            "block3_conv2 (Conv2D)        (None, 56, 56, 256)       590080    \n",
            "_________________________________________________________________\n",
            "block3_conv3 (Conv2D)        (None, 56, 56, 256)       590080    \n",
            "_________________________________________________________________\n",
            "block3_pool (MaxPooling2D)   (None, 28, 28, 256)       0         \n",
            "_________________________________________________________________\n",
            "block4_conv1 (Conv2D)        (None, 28, 28, 512)       1180160   \n",
            "_________________________________________________________________\n",
            "block4_conv2 (Conv2D)        (None, 28, 28, 512)       2359808   \n",
            "_________________________________________________________________\n",
            "block4_conv3 (Conv2D)        (None, 28, 28, 512)       2359808   \n",
            "_________________________________________________________________\n",
            "block4_pool (MaxPooling2D)   (None, 14, 14, 512)       0         \n",
            "_________________________________________________________________\n",
            "block5_conv1 (Conv2D)        (None, 14, 14, 512)       2359808   \n",
            "_________________________________________________________________\n",
            "block5_conv2 (Conv2D)        (None, 14, 14, 512)       2359808   \n",
            "_________________________________________________________________\n",
            "block5_conv3 (Conv2D)        (None, 14, 14, 512)       2359808   \n",
            "_________________________________________________________________\n",
            "block5_pool (MaxPooling2D)   (None, 7, 7, 512)         0         \n",
            "_________________________________________________________________\n",
            "flatten_2 (Flatten)          (None, 25088)             0         \n",
            "_________________________________________________________________\n",
            "dense_2 (Dense)              (None, 4)                 100356    \n",
            "=================================================================\n",
            "Total params: 14,815,044\n",
            "Trainable params: 100,356\n",
            "Non-trainable params: 14,714,688\n",
            "_________________________________________________________________\n"
          ],
          "name": "stdout"
        }
      ]
    },
    {
      "cell_type": "code",
      "metadata": {
        "id": "kmEDQfT-5gTc"
      },
      "source": [
        "# tell the model what cost and optimization method to use\n",
        "model.compile(\n",
        "  loss='categorical_crossentropy',\n",
        "  optimizer='adam',\n",
        "  metrics=['accuracy']\n",
        ")\n"
      ],
      "execution_count": 84,
      "outputs": []
    },
    {
      "cell_type": "code",
      "metadata": {
        "id": "wKthd2sV5gTd"
      },
      "source": [
        "# Use the Image Data Generator to import the images from the dataset\n",
        "from tensorflow.keras.preprocessing.image import ImageDataGenerator\n",
        "\n",
        "train_datagen = ImageDataGenerator(rescale = 1./255,\n",
        "                                   shear_range = 0.2,\n",
        "                                   zoom_range = 0.2,\n",
        "                                   horizontal_flip = True)\n",
        "\n",
        "test_datagen = ImageDataGenerator(rescale = 1./255)"
      ],
      "execution_count": 85,
      "outputs": []
    },
    {
      "cell_type": "code",
      "metadata": {
        "colab": {
          "base_uri": "https://localhost:8080/"
        },
        "id": "U37_HC6m5gTd",
        "outputId": "29dd6c0f-c09f-4fb1-cb65-0e6db4ffe765"
      },
      "source": [
        "# Make sure you provide the same target size as initialied for the image size\n",
        "training_set = train_datagen.flow_from_directory('/content/drive/MyDrive/Cotton_Disease/train',\n",
        "                                                 target_size = (224, 224),\n",
        "                                                 batch_size = 32,\n",
        "                                                 class_mode = 'categorical')"
      ],
      "execution_count": 86,
      "outputs": [
        {
          "output_type": "stream",
          "text": [
            "Found 1951 images belonging to 4 classes.\n"
          ],
          "name": "stdout"
        }
      ]
    },
    {
      "cell_type": "code",
      "metadata": {
        "colab": {
          "base_uri": "https://localhost:8080/"
        },
        "id": "_R-wWxUq5gTd",
        "outputId": "1b03fc4c-3f18-4b9b-c0ef-ea2548482d78"
      },
      "source": [
        "test_set = test_datagen.flow_from_directory('/content/drive/MyDrive/Cotton_Disease/test',\n",
        "                                            target_size = (224, 224),\n",
        "                                            batch_size = 32,\n",
        "                                            class_mode = 'categorical')"
      ],
      "execution_count": 87,
      "outputs": [
        {
          "output_type": "stream",
          "text": [
            "Found 106 images belonging to 4 classes.\n"
          ],
          "name": "stdout"
        }
      ]
    },
    {
      "cell_type": "code",
      "metadata": {
        "colab": {
          "base_uri": "https://localhost:8080/"
        },
        "id": "JgpQbMEy5gTd",
        "outputId": "101cbf44-7167-487e-834e-f974a54a7742"
      },
      "source": [
        "# fit the model\n",
        "# Run the cell. It will take some time to execute\n",
        "r = model.fit_generator(\n",
        "  training_set,\n",
        "  validation_data=test_set,\n",
        "  epochs=50,\n",
        "  steps_per_epoch=len(training_set),\n",
        "  validation_steps=len(test_set)\n",
        ")"
      ],
      "execution_count": 88,
      "outputs": [
        {
          "output_type": "stream",
          "text": [
            "/usr/local/lib/python3.7/dist-packages/tensorflow/python/keras/engine/training.py:1844: UserWarning: `Model.fit_generator` is deprecated and will be removed in a future version. Please use `Model.fit`, which supports generators.\n",
            "  warnings.warn('`Model.fit_generator` is deprecated and '\n"
          ],
          "name": "stderr"
        },
        {
          "output_type": "stream",
          "text": [
            "Epoch 1/50\n",
            "61/61 [==============================] - 40s 606ms/step - loss: 0.9619 - accuracy: 0.6701 - val_loss: 0.2394 - val_accuracy: 0.9151\n",
            "Epoch 2/50\n",
            "61/61 [==============================] - 33s 542ms/step - loss: 0.2472 - accuracy: 0.8980 - val_loss: 0.1588 - val_accuracy: 0.9528\n",
            "Epoch 3/50\n",
            "61/61 [==============================] - 33s 535ms/step - loss: 0.1795 - accuracy: 0.9411 - val_loss: 0.3007 - val_accuracy: 0.8774\n",
            "Epoch 4/50\n",
            "61/61 [==============================] - 33s 539ms/step - loss: 0.1536 - accuracy: 0.9414 - val_loss: 0.1829 - val_accuracy: 0.9434\n",
            "Epoch 5/50\n",
            "61/61 [==============================] - 33s 540ms/step - loss: 0.1044 - accuracy: 0.9678 - val_loss: 0.1458 - val_accuracy: 0.9528\n",
            "Epoch 6/50\n",
            "61/61 [==============================] - 33s 543ms/step - loss: 0.0833 - accuracy: 0.9825 - val_loss: 0.1747 - val_accuracy: 0.9434\n",
            "Epoch 7/50\n",
            "61/61 [==============================] - 33s 539ms/step - loss: 0.0855 - accuracy: 0.9703 - val_loss: 0.0932 - val_accuracy: 0.9623\n",
            "Epoch 8/50\n",
            "61/61 [==============================] - 33s 539ms/step - loss: 0.0713 - accuracy: 0.9832 - val_loss: 0.1266 - val_accuracy: 0.9623\n",
            "Epoch 9/50\n",
            "61/61 [==============================] - 33s 537ms/step - loss: 0.0526 - accuracy: 0.9823 - val_loss: 0.1420 - val_accuracy: 0.9717\n",
            "Epoch 10/50\n",
            "61/61 [==============================] - 33s 538ms/step - loss: 0.0524 - accuracy: 0.9897 - val_loss: 0.0860 - val_accuracy: 0.9811\n",
            "Epoch 11/50\n",
            "61/61 [==============================] - 33s 538ms/step - loss: 0.0626 - accuracy: 0.9820 - val_loss: 0.0912 - val_accuracy: 0.9623\n",
            "Epoch 12/50\n",
            "61/61 [==============================] - 33s 537ms/step - loss: 0.0407 - accuracy: 0.9898 - val_loss: 0.1052 - val_accuracy: 0.9717\n",
            "Epoch 13/50\n",
            "61/61 [==============================] - 33s 539ms/step - loss: 0.0437 - accuracy: 0.9886 - val_loss: 0.1833 - val_accuracy: 0.9340\n",
            "Epoch 14/50\n",
            "61/61 [==============================] - 33s 537ms/step - loss: 0.0437 - accuracy: 0.9896 - val_loss: 0.0894 - val_accuracy: 0.9528\n",
            "Epoch 15/50\n",
            "61/61 [==============================] - 33s 538ms/step - loss: 0.0368 - accuracy: 0.9900 - val_loss: 0.0900 - val_accuracy: 0.9717\n",
            "Epoch 16/50\n",
            "61/61 [==============================] - 33s 539ms/step - loss: 0.0281 - accuracy: 0.9927 - val_loss: 0.0704 - val_accuracy: 0.9717\n",
            "Epoch 17/50\n",
            "61/61 [==============================] - 33s 537ms/step - loss: 0.0212 - accuracy: 0.9965 - val_loss: 0.1055 - val_accuracy: 0.9717\n",
            "Epoch 18/50\n",
            "61/61 [==============================] - 33s 543ms/step - loss: 0.0218 - accuracy: 0.9955 - val_loss: 0.0937 - val_accuracy: 0.9623\n",
            "Epoch 19/50\n",
            "61/61 [==============================] - 33s 539ms/step - loss: 0.0206 - accuracy: 0.9982 - val_loss: 0.0836 - val_accuracy: 0.9717\n",
            "Epoch 20/50\n",
            "61/61 [==============================] - 33s 536ms/step - loss: 0.0203 - accuracy: 0.9960 - val_loss: 0.0622 - val_accuracy: 0.9717\n",
            "Epoch 21/50\n",
            "61/61 [==============================] - 33s 542ms/step - loss: 0.0236 - accuracy: 0.9950 - val_loss: 0.0807 - val_accuracy: 0.9717\n",
            "Epoch 22/50\n",
            "61/61 [==============================] - 33s 544ms/step - loss: 0.0273 - accuracy: 0.9921 - val_loss: 0.0996 - val_accuracy: 0.9623\n",
            "Epoch 23/50\n",
            "61/61 [==============================] - 33s 538ms/step - loss: 0.0168 - accuracy: 0.9961 - val_loss: 0.0731 - val_accuracy: 0.9717\n",
            "Epoch 24/50\n",
            "61/61 [==============================] - 33s 540ms/step - loss: 0.0555 - accuracy: 0.9814 - val_loss: 0.0672 - val_accuracy: 0.9811\n",
            "Epoch 25/50\n",
            "61/61 [==============================] - 33s 537ms/step - loss: 0.0557 - accuracy: 0.9827 - val_loss: 0.1831 - val_accuracy: 0.9245\n",
            "Epoch 26/50\n",
            "61/61 [==============================] - 33s 537ms/step - loss: 0.0345 - accuracy: 0.9881 - val_loss: 0.2316 - val_accuracy: 0.9434\n",
            "Epoch 27/50\n",
            "61/61 [==============================] - 33s 540ms/step - loss: 0.0252 - accuracy: 0.9918 - val_loss: 0.1973 - val_accuracy: 0.9245\n",
            "Epoch 28/50\n",
            "61/61 [==============================] - 33s 539ms/step - loss: 0.0258 - accuracy: 0.9919 - val_loss: 0.1377 - val_accuracy: 0.9340\n",
            "Epoch 29/50\n",
            "61/61 [==============================] - 33s 541ms/step - loss: 0.0283 - accuracy: 0.9913 - val_loss: 0.1065 - val_accuracy: 0.9623\n",
            "Epoch 30/50\n",
            "61/61 [==============================] - 33s 537ms/step - loss: 0.0121 - accuracy: 0.9961 - val_loss: 0.1169 - val_accuracy: 0.9623\n",
            "Epoch 31/50\n",
            "61/61 [==============================] - 33s 539ms/step - loss: 0.0139 - accuracy: 0.9972 - val_loss: 0.0820 - val_accuracy: 0.9717\n",
            "Epoch 32/50\n",
            "61/61 [==============================] - 33s 538ms/step - loss: 0.0210 - accuracy: 0.9937 - val_loss: 0.2867 - val_accuracy: 0.9245\n",
            "Epoch 33/50\n",
            "61/61 [==============================] - 33s 540ms/step - loss: 0.0617 - accuracy: 0.9740 - val_loss: 0.0977 - val_accuracy: 0.9528\n",
            "Epoch 34/50\n",
            "61/61 [==============================] - 33s 537ms/step - loss: 0.0268 - accuracy: 0.9885 - val_loss: 0.2853 - val_accuracy: 0.9151\n",
            "Epoch 35/50\n",
            "61/61 [==============================] - 32s 532ms/step - loss: 0.0429 - accuracy: 0.9835 - val_loss: 0.1033 - val_accuracy: 0.9717\n",
            "Epoch 36/50\n",
            "61/61 [==============================] - 33s 537ms/step - loss: 0.0094 - accuracy: 0.9983 - val_loss: 0.1003 - val_accuracy: 0.9528\n",
            "Epoch 37/50\n",
            "61/61 [==============================] - 33s 541ms/step - loss: 0.0095 - accuracy: 0.9982 - val_loss: 0.1116 - val_accuracy: 0.9717\n",
            "Epoch 38/50\n",
            "61/61 [==============================] - 33s 534ms/step - loss: 0.0065 - accuracy: 1.0000 - val_loss: 0.0925 - val_accuracy: 0.9717\n",
            "Epoch 39/50\n",
            "61/61 [==============================] - 33s 535ms/step - loss: 0.0070 - accuracy: 0.9982 - val_loss: 0.1038 - val_accuracy: 0.9717\n",
            "Epoch 40/50\n",
            "61/61 [==============================] - 33s 536ms/step - loss: 0.0051 - accuracy: 1.0000 - val_loss: 0.0993 - val_accuracy: 0.9717\n",
            "Epoch 41/50\n",
            "61/61 [==============================] - 33s 534ms/step - loss: 0.0097 - accuracy: 0.9982 - val_loss: 0.1263 - val_accuracy: 0.9623\n",
            "Epoch 42/50\n",
            "61/61 [==============================] - 33s 537ms/step - loss: 0.0148 - accuracy: 0.9965 - val_loss: 0.0830 - val_accuracy: 0.9717\n",
            "Epoch 43/50\n",
            "61/61 [==============================] - 33s 535ms/step - loss: 0.0090 - accuracy: 0.9971 - val_loss: 0.1206 - val_accuracy: 0.9623\n",
            "Epoch 44/50\n",
            "61/61 [==============================] - 33s 538ms/step - loss: 0.0175 - accuracy: 0.9934 - val_loss: 0.1063 - val_accuracy: 0.9717\n",
            "Epoch 45/50\n",
            "61/61 [==============================] - 32s 532ms/step - loss: 0.0231 - accuracy: 0.9902 - val_loss: 0.1362 - val_accuracy: 0.9717\n",
            "Epoch 46/50\n",
            "61/61 [==============================] - 33s 538ms/step - loss: 0.0054 - accuracy: 0.9996 - val_loss: 0.1280 - val_accuracy: 0.9623\n",
            "Epoch 47/50\n",
            "61/61 [==============================] - 32s 531ms/step - loss: 0.0050 - accuracy: 0.9994 - val_loss: 0.1313 - val_accuracy: 0.9717\n",
            "Epoch 48/50\n",
            "61/61 [==============================] - 33s 536ms/step - loss: 0.0107 - accuracy: 0.9960 - val_loss: 0.1045 - val_accuracy: 0.9528\n",
            "Epoch 49/50\n",
            "61/61 [==============================] - 32s 532ms/step - loss: 0.0051 - accuracy: 0.9992 - val_loss: 0.0712 - val_accuracy: 0.9717\n",
            "Epoch 50/50\n",
            "61/61 [==============================] - 33s 535ms/step - loss: 0.0086 - accuracy: 0.9972 - val_loss: 0.0887 - val_accuracy: 0.9717\n"
          ],
          "name": "stdout"
        }
      ]
    },
    {
      "cell_type": "code",
      "metadata": {
        "id": "fN_M2d1L5gTe"
      },
      "source": [
        ""
      ],
      "execution_count": 88,
      "outputs": []
    },
    {
      "cell_type": "code",
      "metadata": {
        "colab": {
          "base_uri": "https://localhost:8080/",
          "height": 530
        },
        "id": "hqGxbXj_5gTe",
        "outputId": "6b65044b-645d-4639-a2c4-1a6c1315990c"
      },
      "source": [
        "# plot the loss\n",
        "import matplotlib.pyplot as plt\n",
        "plt.plot(r.history['loss'], label='train loss')\n",
        "plt.plot(r.history['val_loss'], label='val loss')\n",
        "plt.legend()\n",
        "plt.show()\n",
        "plt.savefig('LossVal_loss_cotton_VGG16')\n",
        "\n",
        "# plot the accuracy\n",
        "plt.plot(r.history['accuracy'], label='train acc')\n",
        "plt.plot(r.history['val_accuracy'], label='val acc')\n",
        "plt.legend()\n",
        "plt.show()\n",
        "plt.savefig('AccVal_acc_cotton_VGG16')"
      ],
      "execution_count": 89,
      "outputs": [
        {
          "output_type": "display_data",
          "data": {
            "image/png": "[encoded data removed]",
            "text/plain": [
              "<Figure size 432x288 with 1 Axes>"
            ]
          },
          "metadata": {
            "tags": [],
            "needs_background": "light"
          }
        },
        {
          "output_type": "display_data",
          "data": {
            "image/png": "[encoded data removed]",
            "text/plain": [
              "<Figure size 432x288 with 1 Axes>"
            ]
          },
          "metadata": {
            "tags": [],
            "needs_background": "light"
          }
        },
        {
          "output_type": "display_data",
          "data": {
            "text/plain": [
              "<Figure size 432x288 with 0 Axes>"
            ]
          },
          "metadata": {
            "tags": []
          }
        }
      ]
    },
    {
      "cell_type": "code",
      "metadata": {
        "id": "pCRcTuoU5gTe"
      },
      "source": [
        "# save it as a h5 file\n",
        "\n",
        "\n",
        "from tensorflow.keras.models import load_model\n",
        "\n",
        "model.save('model_cotton_VGG16.h5')"
      ],
      "execution_count": 90,
      "outputs": []
    },
    {
      "cell_type": "code",
      "metadata": {
        "id": "MTVOQEA85gTe"
      },
      "source": [
        ""
      ],
      "execution_count": 90,
      "outputs": []
    },
    {
      "cell_type": "code",
      "metadata": {
        "id": "Y9xgnC565gTe"
      },
      "source": [
        "\n",
        "y_pred = model.predict(test_set)\n"
      ],
      "execution_count": 91,
      "outputs": []
    },
    {
      "cell_type": "code",
      "metadata": {
        "colab": {
          "base_uri": "https://localhost:8080/"
        },
        "id": "Nj0NE94c5gTf",
        "outputId": "2df7162b-6e4a-4fad-9f63-56c589e1aa3a"
      },
      "source": [
        "y_pred"
      ],
      "execution_count": 92,
      "outputs": [
        {
          "output_type": "execute_result",
          "data": {
            "text/plain": [
              "array([[1.05423865e-07, 8.79034817e-01, 5.43070314e-07, 1.20964609e-01],\n",
              "       [1.00000000e+00, 2.07678763e-10, 3.90478538e-09, 3.30151011e-11],\n",
              "       [5.71526049e-10, 1.86624717e-12, 1.00000000e+00, 5.29983136e-15],\n",
              "       [1.66177391e-10, 1.00000000e+00, 2.11578044e-08, 1.97198506e-08],\n",
              "       [3.13241544e-10, 1.27845692e-10, 1.00000000e+00, 1.97927496e-17],\n",
              "       [9.99976039e-01, 1.17275682e-07, 2.37040822e-05, 1.22546993e-07],\n",
              "       [8.52402300e-05, 8.31775396e-05, 9.87485707e-01, 1.23458141e-02],\n",
              "       [9.96959209e-01, 2.56378655e-07, 2.60712509e-03, 4.33455920e-04],\n",
              "       [1.00000000e+00, 3.20799245e-08, 6.22506734e-12, 1.81255794e-13],\n",
              "       [2.06829395e-06, 9.99838471e-01, 4.52817588e-08, 1.59434130e-04],\n",
              "       [9.99999046e-01, 1.20397275e-10, 8.96173503e-07, 7.29638705e-09],\n",
              "       [1.47733826e-03, 9.92082119e-01, 2.66935804e-05, 6.41381973e-03],\n",
              "       [1.07500261e-06, 9.99395013e-01, 3.74869060e-08, 6.03898661e-04],\n",
              "       [8.92374459e-08, 1.22691918e-05, 9.99987602e-01, 2.15472085e-11],\n",
              "       [2.79460050e-06, 4.98358905e-02, 8.84661931e-05, 9.50072825e-01],\n",
              "       [1.08522050e-04, 6.72227412e-04, 4.51637374e-04, 9.98767734e-01],\n",
              "       [4.58020733e-14, 3.62590552e-17, 1.00000000e+00, 1.07487009e-17],\n",
              "       [8.45367221e-10, 9.99962449e-01, 2.11630535e-09, 3.75048112e-05],\n",
              "       [1.00000000e+00, 2.93677416e-09, 5.01367628e-11, 9.79077236e-12],\n",
              "       [9.99964714e-01, 3.53113355e-05, 6.28749114e-13, 3.60602356e-14],\n",
              "       [2.83327584e-09, 7.95574124e-07, 1.36050748e-09, 9.99999166e-01],\n",
              "       [6.73747946e-10, 9.99995232e-01, 5.63076807e-11, 4.82544920e-06],\n",
              "       [9.62538838e-01, 6.97916039e-06, 3.74540985e-02, 5.23070698e-09],\n",
              "       [9.95393157e-01, 1.67998769e-06, 4.60523460e-03, 9.27478538e-10],\n",
              "       [6.80544301e-11, 2.49524224e-13, 1.00000000e+00, 6.40064003e-18],\n",
              "       [1.94446585e-07, 7.68620885e-05, 1.08342691e-04, 9.99814570e-01],\n",
              "       [2.95130194e-05, 7.57961752e-05, 9.95197713e-01, 4.69694752e-03],\n",
              "       [9.99103844e-01, 3.10730979e-06, 8.31311452e-04, 6.17317055e-05],\n",
              "       [1.10493829e-07, 3.79916071e-03, 2.55769468e-08, 9.96200740e-01],\n",
              "       [2.19252421e-08, 3.26267968e-06, 3.67378883e-09, 9.99996662e-01],\n",
              "       [2.32724173e-09, 9.99999881e-01, 8.46579340e-08, 9.08631606e-08],\n",
              "       [5.74763635e-06, 2.32188249e-12, 9.99994278e-01, 4.85818363e-13],\n",
              "       [1.00000000e+00, 7.55984553e-10, 8.13705214e-11, 3.89359175e-17],\n",
              "       [2.16096030e-09, 4.97613506e-09, 7.13717085e-08, 9.99999881e-01],\n",
              "       [1.21051817e-04, 2.49190624e-09, 9.99878883e-01, 1.03967750e-08],\n",
              "       [2.10797957e-08, 6.25731540e-04, 2.63870141e-04, 9.99110401e-01],\n",
              "       [9.99998927e-01, 4.67173589e-09, 1.13233784e-06, 1.33402523e-12],\n",
              "       [2.16111165e-08, 8.11917707e-05, 9.61791557e-06, 9.99909163e-01],\n",
              "       [4.69492845e-09, 9.98465419e-01, 8.79418149e-05, 1.44670077e-03],\n",
              "       [4.60813832e-09, 9.99994516e-01, 3.16247309e-07, 5.13100031e-06],\n",
              "       [4.47492621e-09, 9.99997377e-01, 2.22081880e-07, 2.44678631e-06],\n",
              "       [1.11837952e-08, 7.40728368e-08, 9.99999762e-01, 8.83837785e-08],\n",
              "       [6.53148481e-06, 6.00897148e-02, 9.39895928e-01, 7.87742283e-06],\n",
              "       [1.52114580e-07, 3.15890275e-02, 2.14567626e-04, 9.68196213e-01],\n",
              "       [7.64737536e-08, 2.08563861e-11, 9.99999881e-01, 3.79592491e-09],\n",
              "       [4.48685199e-07, 9.63191271e-01, 4.11203622e-08, 3.68082523e-02],\n",
              "       [1.09494714e-07, 5.71463170e-05, 5.56212534e-08, 9.99942780e-01],\n",
              "       [1.59148927e-11, 9.99999881e-01, 1.53617785e-09, 1.75167401e-07],\n",
              "       [8.97021234e-01, 1.02978788e-01, 2.14205453e-08, 2.83859891e-09],\n",
              "       [4.75121283e-07, 3.86606416e-06, 9.99981403e-01, 1.42812878e-05],\n",
              "       [5.11800879e-10, 1.27713162e-09, 1.00000000e+00, 1.67059988e-09],\n",
              "       [1.00000000e+00, 6.46074250e-10, 4.13616086e-10, 1.26295393e-12],\n",
              "       [1.00000000e+00, 2.55799559e-08, 5.84746357e-12, 2.95128342e-13],\n",
              "       [3.91206368e-06, 1.96519395e-05, 9.99621511e-01, 3.54852789e-04],\n",
              "       [2.34340282e-12, 1.00000000e+00, 7.27105659e-12, 2.77480622e-10],\n",
              "       [1.48097090e-10, 9.99998927e-01, 5.00910424e-10, 1.13103090e-06],\n",
              "       [1.07797304e-09, 1.90978317e-05, 3.34953825e-06, 9.99977589e-01],\n",
              "       [1.62315757e-06, 9.58203077e-01, 1.30828667e-07, 4.17952091e-02],\n",
              "       [9.18826046e-08, 9.99972224e-01, 1.46870127e-09, 2.76350220e-05],\n",
              "       [9.99999285e-01, 1.69183139e-07, 5.11174051e-07, 4.80993450e-08],\n",
              "       [1.58204600e-07, 1.20089040e-03, 2.98970444e-05, 9.98768985e-01],\n",
              "       [1.53064690e-07, 9.84269738e-01, 3.82118913e-07, 1.57297775e-02],\n",
              "       [1.01405817e-08, 3.28485999e-04, 9.99651670e-01, 1.98104080e-05],\n",
              "       [1.36034444e-07, 9.53101039e-01, 1.93642123e-07, 4.68986221e-02],\n",
              "       [8.51126392e-10, 1.00000000e+00, 2.61886628e-12, 3.49661550e-10],\n",
              "       [4.75121283e-07, 3.86606416e-06, 9.99981403e-01, 1.42812878e-05],\n",
              "       [6.59414884e-11, 2.00152172e-07, 2.65046403e-08, 9.99999762e-01],\n",
              "       [2.21338237e-08, 2.99583480e-04, 9.18022408e-07, 9.99699473e-01],\n",
              "       [9.72284031e-09, 1.56439673e-05, 8.49946294e-11, 9.99984384e-01],\n",
              "       [9.99999881e-01, 1.40624422e-07, 2.11671444e-10, 5.29596367e-10],\n",
              "       [5.96823283e-02, 2.12236890e-04, 8.77060950e-01, 6.30444959e-02],\n",
              "       [8.68290440e-11, 7.14499857e-13, 1.00000000e+00, 3.71295337e-17],\n",
              "       [9.99998927e-01, 3.35715214e-07, 7.06184437e-07, 1.05897513e-11],\n",
              "       [2.50928679e-07, 5.62726753e-03, 2.98149473e-07, 9.94372129e-01],\n",
              "       [1.01592022e-07, 4.11517108e-15, 9.99999881e-01, 2.90949796e-17],\n",
              "       [5.92086735e-06, 1.99064334e-10, 9.99994040e-01, 1.10992431e-11],\n",
              "       [9.99999404e-01, 4.22444145e-07, 1.19338722e-07, 7.11589338e-12],\n",
              "       [2.53637250e-10, 9.99999642e-01, 2.09804565e-08, 3.25375424e-07],\n",
              "       [1.16952310e-06, 9.99919891e-01, 4.02355305e-09, 7.89193291e-05],\n",
              "       [1.59258597e-08, 8.84344843e-07, 9.99996781e-01, 2.26221550e-06],\n",
              "       [6.46137386e-13, 7.05907597e-17, 1.00000000e+00, 2.08415302e-17],\n",
              "       [9.94576693e-01, 5.58974136e-07, 5.42265596e-03, 8.45986649e-12],\n",
              "       [6.48273319e-12, 1.00000000e+00, 7.93283963e-14, 4.94483510e-10],\n",
              "       [1.91965596e-10, 4.25805820e-06, 9.01811018e-06, 9.99986649e-01],\n",
              "       [3.91734557e-06, 1.83333260e-09, 9.99996066e-01, 1.72581949e-11],\n",
              "       [1.01892418e-07, 9.99900579e-01, 5.82938631e-09, 9.92937930e-05],\n",
              "       [1.80863708e-07, 9.41245317e-01, 2.32797787e-12, 5.87544106e-02],\n",
              "       [1.44437129e-08, 9.99994755e-01, 1.12524812e-09, 5.19209834e-06],\n",
              "       [5.72916576e-07, 9.99983191e-01, 6.33458157e-08, 1.61946427e-05],\n",
              "       [6.42740245e-12, 1.56067965e-12, 1.18723920e-08, 1.00000000e+00],\n",
              "       [9.99815047e-01, 4.04567757e-09, 1.84977762e-04, 1.35371723e-08],\n",
              "       [9.99984264e-01, 5.07364257e-06, 9.27450230e-07, 9.69365283e-06],\n",
              "       [4.59667471e-10, 3.14328026e-05, 4.02541467e-09, 9.99968529e-01],\n",
              "       [2.70731348e-09, 1.45970989e-04, 1.46582286e-04, 9.99707401e-01],\n",
              "       [1.10101273e-05, 1.24078840e-02, 2.46089348e-06, 9.87578571e-01],\n",
              "       [1.75738722e-04, 1.03778008e-03, 4.74527842e-05, 9.98738945e-01],\n",
              "       [9.69715074e-06, 1.81434530e-06, 9.99988437e-01, 8.42623926e-09],\n",
              "       [1.00000000e+00, 8.20466717e-09, 9.55690904e-09, 3.77810450e-10],\n",
              "       [1.48263919e-11, 2.39243647e-08, 1.45508461e-09, 1.00000000e+00],\n",
              "       [1.67354255e-08, 1.63807654e-05, 9.99983549e-01, 5.93892324e-10],\n",
              "       [9.94473885e-05, 1.07176438e-05, 1.44833060e-11, 9.99889851e-01],\n",
              "       [2.60920689e-08, 3.27665561e-09, 9.99999285e-01, 7.34675950e-07],\n",
              "       [6.06091746e-08, 9.99974012e-01, 6.46149658e-07, 2.52502887e-05],\n",
              "       [1.07968981e-05, 6.81517406e-07, 9.99988556e-01, 5.66256986e-10],\n",
              "       [2.35029574e-09, 1.25481223e-04, 2.17867210e-07, 9.99874234e-01],\n",
              "       [9.99998331e-01, 2.29260656e-11, 1.66281450e-06, 1.46193191e-08]],\n",
              "      dtype=float32)"
            ]
          },
          "metadata": {
            "tags": []
          },
          "execution_count": 92
        }
      ]
    },
    {
      "cell_type": "code",
      "metadata": {
        "id": "jYoZhAz55gTf"
      },
      "source": [
        "import numpy as np\n",
        "y_pred = np.argmax(y_pred, axis=1)"
      ],
      "execution_count": 93,
      "outputs": []
    },
    {
      "cell_type": "code",
      "metadata": {
        "colab": {
          "base_uri": "https://localhost:8080/"
        },
        "id": "NV7EKTHi5gTf",
        "outputId": "8ecc71df-ec05-44d8-c178-d3ba60348a6b"
      },
      "source": [
        "y_pred"
      ],
      "execution_count": 94,
      "outputs": [
        {
          "output_type": "execute_result",
          "data": {
            "text/plain": [
              "array([1, 0, 2, 1, 2, 0, 2, 0, 0, 1, 0, 1, 1, 2, 3, 3, 2, 1, 0, 0, 3, 1,\n",
              "       0, 0, 2, 3, 2, 0, 3, 3, 1, 2, 0, 3, 2, 3, 0, 3, 1, 1, 1, 2, 2, 3,\n",
              "       2, 1, 3, 1, 0, 2, 2, 0, 0, 2, 1, 1, 3, 1, 1, 0, 3, 1, 2, 1, 1, 2,\n",
              "       3, 3, 3, 0, 2, 2, 0, 3, 2, 2, 0, 1, 1, 2, 2, 0, 1, 3, 2, 1, 1, 1,\n",
              "       1, 3, 0, 0, 3, 3, 3, 3, 2, 0, 3, 2, 3, 2, 1, 2, 3, 0])"
            ]
          },
          "metadata": {
            "tags": []
          },
          "execution_count": 94
        }
      ]
    },
    {
      "cell_type": "code",
      "metadata": {
        "id": "_QRqoT8P5gTf"
      },
      "source": [
        ""
      ],
      "execution_count": 94,
      "outputs": []
    },
    {
      "cell_type": "code",
      "metadata": {
        "id": "mUg_JML95gTf"
      },
      "source": [
        "from tensorflow.keras.models import load_model\n",
        "from tensorflow.keras.preprocessing import image"
      ],
      "execution_count": 95,
      "outputs": []
    },
    {
      "cell_type": "code",
      "metadata": {
        "id": "DGXQXhdb5gTf"
      },
      "source": [
        "model=load_model('model_cotton_VGG16.h5')"
      ],
      "execution_count": 96,
      "outputs": []
    },
    {
      "cell_type": "code",
      "metadata": {
        "id": "tnpHLvvR5gTg"
      },
      "source": [
        "img=image.load_img('/content/drive/MyDrive/Cotton_Disease/test/diseased cotton leaf/dis_leaf (173)_iaip.jpg',target_size=(224,224))"
      ],
      "execution_count": 97,
      "outputs": []
    },
    {
      "cell_type": "code",
      "metadata": {
        "colab": {
          "base_uri": "https://localhost:8080/",
          "height": 241
        },
        "id": "qmS4YTq2IwiG",
        "outputId": "965982eb-768d-45dd-800d-b2adb19a1d9b"
      },
      "source": [
        "img"
      ],
      "execution_count": 98,
      "outputs": [
        {
          "output_type": "execute_result",
          "data": {
            "image/png": "[encoded data removed]",
            "text/plain": [
              "<PIL.Image.Image image mode=RGB size=224x224 at 0x7F1F2093DD50>"
            ]
          },
          "metadata": {
            "tags": []
          },
          "execution_count": 98
        }
      ]
    },
    {
      "cell_type": "code",
      "metadata": {
        "colab": {
          "base_uri": "https://localhost:8080/"
        },
        "id": "tpSV_I6i5gTg",
        "outputId": "9f0dac8f-37d0-4992-ca5e-bc3c86dfdbdf"
      },
      "source": [
        "x=image.img_to_array(img)\n",
        "x"
      ],
      "execution_count": 99,
      "outputs": [
        {
          "output_type": "execute_result",
          "data": {
            "text/plain": [
              "array([[[223., 235., 133.],\n",
              "        [229., 241., 139.],\n",
              "        [225., 237., 135.],\n",
              "        ...,\n",
              "        [ 53.,  51.,  36.],\n",
              "        [ 62.,  54.,  35.],\n",
              "        [ 61.,  53.,  34.]],\n",
              "\n",
              "       [[219., 231., 129.],\n",
              "        [220., 232., 130.],\n",
              "        [223., 235., 133.],\n",
              "        ...,\n",
              "        [ 51.,  49.,  34.],\n",
              "        [ 60.,  52.,  33.],\n",
              "        [ 63.,  55.,  36.]],\n",
              "\n",
              "       [[223., 235., 133.],\n",
              "        [220., 232., 130.],\n",
              "        [228., 240., 138.],\n",
              "        ...,\n",
              "        [ 49.,  47.,  32.],\n",
              "        [ 66.,  58.,  39.],\n",
              "        [ 71.,  63.,  44.]],\n",
              "\n",
              "       ...,\n",
              "\n",
              "       [[ 56.,  50.,  36.],\n",
              "        [ 56.,  50.,  36.],\n",
              "        [ 56.,  50.,  36.],\n",
              "        ...,\n",
              "        [105.,  89.,  73.],\n",
              "        [ 87.,  75.,  61.],\n",
              "        [ 77.,  65.,  51.]],\n",
              "\n",
              "       [[ 54.,  51.,  32.],\n",
              "        [ 58.,  53.,  33.],\n",
              "        [ 57.,  49.,  28.],\n",
              "        ...,\n",
              "        [128., 104.,  76.],\n",
              "        [100.,  85.,  64.],\n",
              "        [ 78.,  63.,  42.]],\n",
              "\n",
              "       [[ 58.,  55.,  36.],\n",
              "        [ 62.,  57.,  37.],\n",
              "        [ 61.,  53.,  32.],\n",
              "        ...,\n",
              "        [126., 102.,  74.],\n",
              "        [107.,  92.,  71.],\n",
              "        [ 89.,  74.,  53.]]], dtype=float32)"
            ]
          },
          "metadata": {
            "tags": []
          },
          "execution_count": 99
        }
      ]
    },
    {
      "cell_type": "code",
      "metadata": {
        "colab": {
          "base_uri": "https://localhost:8080/"
        },
        "id": "DbnEe-v45gTg",
        "outputId": "476d3635-0668-4550-a07f-f825dd34baa9"
      },
      "source": [
        "x.shape"
      ],
      "execution_count": 100,
      "outputs": [
        {
          "output_type": "execute_result",
          "data": {
            "text/plain": [
              "(224, 224, 3)"
            ]
          },
          "metadata": {
            "tags": []
          },
          "execution_count": 100
        }
      ]
    },
    {
      "cell_type": "code",
      "metadata": {
        "id": "9bsL5N5RKoUu"
      },
      "source": [
        "test_image = image.img_to_array(x)\n",
        "test_image = test_image/255\n",
        "test_image = np.expand_dims(test_image, axis = 0)\n",
        "result = model.predict(test_image)"
      ],
      "execution_count": 101,
      "outputs": []
    },
    {
      "cell_type": "code",
      "metadata": {
        "colab": {
          "base_uri": "https://localhost:8080/"
        },
        "id": "bg18UMGPLzsQ",
        "outputId": "4e3cf03a-5157-4e42-dd7d-4909e8407da5"
      },
      "source": [
        "result"
      ],
      "execution_count": 102,
      "outputs": [
        {
          "output_type": "execute_result",
          "data": {
            "text/plain": [
              "array([[9.9999905e-01, 1.2039773e-10, 8.9617697e-07, 7.2965403e-09]],\n",
              "      dtype=float32)"
            ]
          },
          "metadata": {
            "tags": []
          },
          "execution_count": 102
        }
      ]
    },
    {
      "cell_type": "code",
      "metadata": {
        "id": "VXHGCypPMNY6"
      },
      "source": [
        ""
      ],
      "execution_count": 102,
      "outputs": []
    },
    {
      "cell_type": "code",
      "metadata": {
        "colab": {
          "base_uri": "https://localhost:8080/"
        },
        "id": "oTzT4uU35gTg",
        "outputId": "48de97b6-6e57-4b9b-9578-51cdf49bf426"
      },
      "source": [
        "model.predict(test_image)"
      ],
      "execution_count": 103,
      "outputs": [
        {
          "output_type": "execute_result",
          "data": {
            "text/plain": [
              "array([[9.9999905e-01, 1.2039773e-10, 8.9617697e-07, 7.2965403e-09]],\n",
              "      dtype=float32)"
            ]
          },
          "metadata": {
            "tags": []
          },
          "execution_count": 103
        }
      ]
    },
    {
      "cell_type": "code",
      "metadata": {
        "id": "uw4dStir5gTg"
      },
      "source": [
        "a=np.argmax(model.predict(test_image), axis=1)"
      ],
      "execution_count": 104,
      "outputs": []
    },
    {
      "cell_type": "code",
      "metadata": {
        "colab": {
          "base_uri": "https://localhost:8080/"
        },
        "id": "mOqzYlYnM3VI",
        "outputId": "1b5582cb-0b76-4ed8-ae12-5aa77599325f"
      },
      "source": [
        "a"
      ],
      "execution_count": 105,
      "outputs": [
        {
          "output_type": "execute_result",
          "data": {
            "text/plain": [
              "array([0])"
            ]
          },
          "metadata": {
            "tags": []
          },
          "execution_count": 105
        }
      ]
    },
    {
      "cell_type": "code",
      "metadata": {
        "colab": {
          "base_uri": "https://localhost:8080/"
        },
        "id": "sVeDC9hp5gTh",
        "outputId": "893d1507-b0a1-44e9-dce9-270e74487969"
      },
      "source": [
        "if a == 0:\n",
        "    print(\"Diseased cotton leaf\")\n",
        "elif a == 1:\n",
        "  print(\"Diseased cotton plant\")\n",
        "elif a == 2:\n",
        "  print(\"Fresh cotton leaf\")\n",
        "else:\n",
        "  print(\"Fresh cotton plant\")"
      ],
      "execution_count": 106,
      "outputs": [
        {
          "output_type": "stream",
          "text": [
            "Diseased cotton leaf\n"
          ],
          "name": "stdout"
        }
      ]
    },
    {
      "cell_type": "code",
      "metadata": {
        "id": "UdNBsqXoNGEG"
      },
      "source": [
        ""
      ],
      "execution_count": null,
      "outputs": []
    }
  ]
}